{
 "cells": [
  {
   "cell_type": "markdown",
   "id": "a50d0fba-6804-485c-99b4-68d287d4fa31",
   "metadata": {},
   "source": [
    "# Python Function\n",
    "\n",
    "```python\n",
    "def my_func(*args, **kwargs):\n",
    "    pass\n",
    "```\n",
    "\n",
    "**Instructor: Jhun Brian M. Andam** </br>\n",
    "**Course: CS112**"
   ]
  },
  {
   "attachments": {},
   "cell_type": "markdown",
   "id": "5316736e-18a6-49a5-a6d0-2e4763d1a8d4",
   "metadata": {},
   "source": [
    "### What are functions?\n",
    "\n",
    "A `function` is a block of organized, reusable code that is used to `perform a single`, related action. They provide better modularity for your application and a high degree of code reusing.\n"
   ]
  },
  {
   "cell_type": "markdown",
   "id": "d7d54dc6-eaf5-427b-b83a-2d7f1a8efb33",
   "metadata": {},
   "source": [
    "**Application**\n",
    "\n",
    "\\begin{equation}\n",
    "    y = mx + b\n",
    "\\end{equation}\n",
    "\n",
    "A linear regression function is one of simplest form of a function used in mathematics. In this function we have three parameters, where;\n",
    "- $y$ is the output of the function.\n",
    "- $m$ is the slope of the regression line.\n",
    "- $b$ is the $y$-intercept.\n",
    "- $x$ is the input value.\n",
    "\n",
    "We know that the slope ($m$) and the $y$-intercept ($b$) values are calculated using the given independent ($x$) and the dependent ($y$) variables, through the help of functions like the `Pearson Correlation Coefficient` and other functions. The input data $x$ is the one that we need to feed in the function $y = mx+b$ in order to get an output.\n",
    "\n",
    "\\begin{equation}\n",
    "    y = 2x + 3\n",
    "\\end{equation}\n",
    "\n",
    "With the provided function above, we can calculate the value of $y$ given the input value $x$."
   ]
  },
  {
   "cell_type": "code",
   "execution_count": 1,
   "id": "11860ec1-c780-4f14-88eb-1ba89d48a9f0",
   "metadata": {},
   "outputs": [],
   "source": [
    "# imported libraries\n",
    "\n",
    "import matplotlib.pyplot as plt    # graphing and visualization\n",
    "import numpy as np                 # maths and linear algebra"
   ]
  },
  {
   "cell_type": "code",
   "execution_count": 2,
   "id": "00d36925-44a6-4a60-ac08-a237bfc35934",
   "metadata": {},
   "outputs": [],
   "source": [
    "# linear regression function\n",
    "\n",
    "m = 2\n",
    "b = 3\n",
    "\n",
    "def linear_function(x):\n",
    "    return (m * x) + b"
   ]
  },
  {
   "cell_type": "code",
   "execution_count": 3,
   "id": "441cafb9-b827-4baa-822f-a4ae8ec181ae",
   "metadata": {},
   "outputs": [],
   "source": [
    "# instantiate input values\n",
    "\n",
    "x = [-5, -1, 0, 1, 2, 3, 4, 5]\n",
    "y = []\n",
    "\n",
    "# apply the linear function for each given x\n",
    "for i in x:\n",
    "    # call the function, feed the x as input and\n",
    "    # append output to the empty list y\n",
    "    y.append(linear_function(i))"
   ]
  },
  {
   "cell_type": "code",
   "execution_count": 4,
   "id": "941d23e0-8d1c-4a01-bdc2-737c78ee6052",
   "metadata": {},
   "outputs": [
    {
     "data": {
      "image/png": "[encoded data removed]",
      "text/plain": [
       "<Figure size 500x500 with 1 Axes>"
      ]
     },
     "metadata": {},
     "output_type": "display_data"
    }
   ],
   "source": [
    "plt.figure(figsize=(5,5))\n",
    "plt.plot(x, y, label='y = 2x + b', linestyle='--')\n",
    "plt.grid()\n",
    "plt.axhline(0, color='red',linewidth=1)\n",
    "plt.axvline(0, color='red',linewidth=1)\n",
    "plt.title('Linear Function')\n",
    "plt.legend(loc='upper left');"
   ]
  },
  {
   "cell_type": "markdown",
   "id": "e0155ebc-0454-4bd0-9d34-270dc39261c5",
   "metadata": {},
   "source": [
    "There are two types of functions in Python:\n",
    "- Standard library functions\n",
    "- User-defined functions\n",
    "\n",
    "**Calling functions from standard libraries** require you to import the library as can be seen from the example below.\n",
    "```python\n",
    "import random\n",
    "```\n",
    "\n",
    "Here, our `library` is the `random` library which is a built-in library in python, meaning it is already included upon `Python's Installation`. Libraries has its own source code and is saved in the working directory of python.\n",
    "\n",
    "<center><img src=\"figures/random.png\"></center>\n",
    "\n",
    "The `random` library seems to depend on other libraries. Could you provide information on which libraries the `random` library depends on?\n",
    "\n",
    "Libraries, usually have functions and classes programmed in them, you can call these functions or classes and by doing so, you are calling a function from a standard library."
   ]
  },
  {
   "cell_type": "code",
   "execution_count": 5,
   "id": "2ab084d8-9b24-4f83-a515-80eb4cc7d0ee",
   "metadata": {},
   "outputs": [],
   "source": [
    "import random"
   ]
  },
  {
   "cell_type": "code",
   "execution_count": 6,
   "id": "02ef6af3-8206-46c5-84c3-f5a86c8a31c2",
   "metadata": {},
   "outputs": [
    {
     "data": {
      "text/plain": [
       "73"
      ]
     },
     "execution_count": 6,
     "metadata": {},
     "output_type": "execute_result"
    }
   ],
   "source": [
    "random.randint(a=0, b=100)"
   ]
  },
  {
   "cell_type": "markdown",
   "id": "07e14ba7-0b39-4907-8a0d-044b72372974",
   "metadata": {},
   "source": [
    "The code above utilizes the `randint()` function from the `random` library to generate a random integer (hence the name). The `randint()` function requires two parameters: `a` and `b`. The first parameter, `a`, represents the minimum value for the range from which the random number is generated, while the second parameter, `b`, represents the maximum limit. In other words:\n",
    "```python\n",
    "random.randint(a=0, b=100)\n",
    "```\n",
    "This code generates a single random integer between 0 and 100 (inclusive).\n",
    "\n",
    "**Terms:**\n",
    "- Parameters\n",
    "- Inclusive\n",
    "- Exclusive\r\n",
    "\r\n",
    "\r\n"
   ]
  },
  {
   "cell_type": "markdown",
   "id": "3523561c-c202-49ca-b34b-3004476c83dc",
   "metadata": {},
   "source": [
    "**Calling functions from user-defined** function requires the programmer to define the function manually. You can define a function using the keyword;\n",
    "\n",
    "```python\n",
    "def my_func(param1, param2, *args, **kwargs):\n",
    "    pass\n",
    "```\n",
    "\n",
    "Example is the defined `linear_function` above."
   ]
  },
  {
   "attachments": {},
   "cell_type": "markdown",
   "id": "7a5c02c9-4557-41be-941c-16f4b73a0cd1",
   "metadata": {},
   "source": [
    "## Defining a Function\n",
    "\n",
    "```python\n",
    "def sums(n1, n2):\n",
    "    return n1 + n2\n",
    "\n",
    "# VS\n",
    "\n",
    "sums = lambda n1, n2: n1 + n2 \n",
    "```\n",
    "\n",
    "In python, `def` defined functions are commonly used because of their simplicity. The `def` defined functions do not return anything if not explicitly returned whereas the `lambda` function does return an object. The `def` functions must be declared in the namespace. The `def` functions can perform any python task including multiple conditions, nested conditions or loops of any level, printing, importing libraries, raising Exceptions, etc. \n",
    "\n"
   ]
  },
  {
   "cell_type": "code",
   "execution_count": 7,
   "id": "f7a02dc7-96ea-4128-b42b-917d41c6d442",
   "metadata": {},
   "outputs": [
    {
     "data": {
      "text/plain": [
       "5"
      ]
     },
     "execution_count": 7,
     "metadata": {},
     "output_type": "execute_result"
    }
   ],
   "source": [
    "def sums(n1, n2):\n",
    "    return n1 + n2\n",
    "\n",
    "sums(1, 4)"
   ]
  },
  {
   "cell_type": "markdown",
   "id": "573bdc54-94ce-4c20-8de4-feafd3e1b52f",
   "metadata": {},
   "source": [
    "A function is like a mini-program or a set of instructions that you can create and **reuse** in your code. Imagine you have a recipe for making a sandwich – a function is like that recipe. It takes some ingredients **(inputs)**, performs a specific set of steps (code), and gives you the final result **(output)**. You can use this recipe whenever you want to make a sandwich without rewriting the steps each time. For example, if you have a function called `make_sandwich()` you can call it with different ingredients to make various sandwiches without rewriting the instructions for each one. Functions help make your code organized, modular, and easier to understand and maintain.\n",
    "\r\n",
    "\r\n",
    "\r\n",
    "\r\n"
   ]
  },
  {
   "cell_type": "code",
   "execution_count": 8,
   "id": "e79e06a2-d572-49c2-8444-810d8e87875c",
   "metadata": {},
   "outputs": [
    {
     "data": {
      "text/plain": [
       "\"Here's your chicken sandwich, enjoy!\""
      ]
     },
     "execution_count": 8,
     "metadata": {},
     "output_type": "execute_result"
    }
   ],
   "source": [
    "def make_sandwich(filling):\n",
    "    out = f\"Here's your {filling.lower()} sandwich, enjoy!\"\n",
    "    return out\n",
    "\n",
    "filling = 'chicken'\n",
    "make_sandwich(filling=filling)"
   ]
  },
  {
   "cell_type": "markdown",
   "id": "a15514e8-5b9e-434d-a884-3dfea5e6de96",
   "metadata": {},
   "source": [
    "In the `make_sandwich()` function, we have only one parameter which is called `filling`, this parameter is required to have a value since it does not have a default value. The `make_sandwich()` function also have a `return` keyword which means that the value next to it is being returned after the function is executed. For this example, we are returning the value of the `out` variable which is basically a string thst states;\n",
    "```python\n",
    "f\"Here's your {filling.lower()} sandwich, enjoy!\"\n",
    "```\n",
    "The `filling` from the given code will be replaced with the value that's been used by the one who called the `make_sandwich()` function."
   ]
  },
  {
   "cell_type": "code",
   "execution_count": 9,
   "id": "532abbd5-e3fe-4ade-9453-8dd61de5a8f6",
   "metadata": {},
   "outputs": [
    {
     "data": {
      "text/plain": [
       "\"Here's your chicken sandwich, enjoy!\""
      ]
     },
     "execution_count": 9,
     "metadata": {},
     "output_type": "execute_result"
    }
   ],
   "source": [
    "def make_sandwich(filling='chicken'):\n",
    "    out = f\"Here's your {filling.lower()} sandwich, enjoy!\"\n",
    "    return out\n",
    "\n",
    "make_sandwich()"
   ]
  },
  {
   "cell_type": "markdown",
   "id": "5c172020-63c8-4417-b0ff-0bb4554b013c",
   "metadata": {},
   "source": [
    "In this modified version of the `make_sandwich()` function, we can see that there is already an assigned value for the `parameter filling`, this means that it is no longer required to put a value since there is already a given value for that parameter. But, you can still overwrite the default value by explicitly stating the desired value for the `filling parameter`."
   ]
  },
  {
   "cell_type": "code",
   "execution_count": 10,
   "id": "cddd5927-5a9f-4bb5-b99c-11daf6e6a55d",
   "metadata": {},
   "outputs": [
    {
     "data": {
      "text/plain": [
       "\"Here's your mmm spaghett sandwich, enjoy!\""
      ]
     },
     "execution_count": 10,
     "metadata": {},
     "output_type": "execute_result"
    }
   ],
   "source": [
    "make_sandwich(filling='mmm spaghett')"
   ]
  },
  {
   "cell_type": "markdown",
   "id": "07c73597-ab2d-45ba-9a41-fb4d8aa784f0",
   "metadata": {},
   "source": [
    "Take note that the `make_sandwich()` function has a return keyword, meaning, we can actually assign a variable when calling the function."
   ]
  },
  {
   "cell_type": "code",
   "execution_count": 11,
   "id": "0840ec73-3cd0-43e9-b52e-0bd349d2bc3d",
   "metadata": {},
   "outputs": [
    {
     "name": "stdout",
     "output_type": "stream",
     "text": [
      "Here's your mmm spaghett sandwich, enjoy!\n"
     ]
    }
   ],
   "source": [
    "my_order = make_sandwich(filling='mmm spaghett')\n",
    "print(my_order)"
   ]
  },
  {
   "cell_type": "markdown",
   "id": "516d983c-1dce-43b6-a626-6e02dd6a3ffc",
   "metadata": {},
   "source": [
    "<div class=\"alert alert-block alert-info\"><b>Note: </b>Take note that in jupyter notebook, executing a defined variable will automatically display its output, this does not happen in the original IDLE environment.</div> "
   ]
  },
  {
   "cell_type": "markdown",
   "id": "4e99994f-0abc-46f9-9643-1f91fb6c937a",
   "metadata": {},
   "source": [
    "### Lecture Activity 2.2:\n",
    "\n",
    "- Create a python function that accepts a student's grade in a form of a dictionary and returns their grade point average (gpa).\n",
    "- Follow the provided pseudocode and make sure to document each line of your code using comments (`#`).\n",
    "- Sample Input:\n",
    "    - `grades = {'NR':[3.0, 2.5, 2.5, 3.0, 3.0], 'AU':[3.0, 3.0, 3.0, 3.0, 3.0]}`\n",
    "\n",
    "\n",
    "**Pseudocode:**\n",
    "\n",
    "<code>\n",
    "    BEGIN GPACalculator(grades)\n",
    "        GET numerical_rating = grades['NR']\n",
    "        GET academic_units = grades['AU']\n",
    "        sums_prod = 0\n",
    "        sums_au = 0\n",
    "        FOR nr, au in numerical_rating, academic_units\n",
    "            sums_prod = sums_prod + (nr * au)\n",
    "            sums_au = sums_au + au\n",
    "        gpa = sums_prod / sums_au\n",
    "    END GPACalculator(grades)\n",
    "</code>"
   ]
  },
  {
   "cell_type": "code",
   "execution_count": null,
   "id": "ae5e0cbd-8be9-45cd-ba5c-877ef892c1bb",
   "metadata": {},
   "outputs": [],
   "source": []
  }
 ],
 "metadata": {
  "kernelspec": {
   "display_name": "Python 3 (ipykernel)",
   "language": "python",
   "name": "python3"
  },
  "language_info": {
   "codemirror_mode": {
    "name": "ipython",
    "version": 3
   },
   "file_extension": ".py",
   "mimetype": "text/x-python",
   "name": "python",
   "nbconvert_exporter": "python",
   "pygments_lexer": "ipython3",
   "version": "3.8.5"
  }
 },
 "nbformat": 4,
 "nbformat_minor": 5
}
