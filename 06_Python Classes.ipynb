{
 "cells": [
  {
   "cell_type": "markdown",
   "id": "6e877d89-6d6f-4fc9-8ac1-82f892624916",
   "metadata": {},
   "source": [
    "# Basic Concepts of Object Oriented Programming (OOP) in Python\n",
    "\n",
    "```python\n",
    "class MyClass:\n",
    "    def __init__(self):\n",
    "        pass\n",
    "\n",
    "    def method(self):\n",
    "        pass\n",
    "```\n",
    "\n",
    "**Instructor:** Jhun Brian M. Andam\n",
    "\n",
    "**Course:** CS112"
   ]
  },
  {
   "cell_type": "markdown",
   "id": "8551e2cb-a2c4-4fde-bee3-cef0d3674405",
   "metadata": {},
   "source": [
    "> In Python, a `class is a blueprint` for creating objects. It defines properties (attributes) and behaviors (methods) that objects of that class will have. Think of it as a template used to create instances that share similar characteristics and functionalities."
   ]
  },
  {
   "cell_type": "markdown",
   "id": "d1c087b3-089b-4044-9cbd-f9f514302488",
   "metadata": {},
   "source": [
    "## Defining a Class\n",
    "\n",
    "1. You can define a class using the `class` keyword.\n",
    "    - Begin by using the `class` keyword followed by the class name. Class names conventionally start with a capital letter also called as `PascalCase`.\n",
    "\n",
    "    ```python\n",
    "    class MyClass:\n",
    "    ```"
   ]
  },
  {
   "cell_type": "markdown",
   "id": "ba21213d-f5f3-460a-888b-4692b9c7efde",
   "metadata": {},
   "source": [
    "2. Define the `__init__` method.\n",
    "    - The `__init__` method is a special method that initializes the object when it is created. It is called a constructor.\n",
    "    - It typically takes self as its first parameter, which refers to the instance of the class.\n",
    "\n",
    "    ```python\n",
    "    class MyClass:\n",
    "        def __init__(self, param1, param2):\n",
    "            self.param1 = param1\n",
    "            self.param2 = param2\n",
    "    ```"
   ]
  },
  {
   "cell_type": "markdown",
   "id": "01b9279b-c879-4ec7-bb22-9b178f76406f",
   "metadata": {},
   "source": [
    "3. Add attributes and methods.\n",
    "    - Define `attributes (variables)` and `methods (functions)` within the class. Use the `self` keyword to refer to instance variables and methods.\n",
    "\n",
    "    ```python\n",
    "    class MyClass:\n",
    "        def __init__(self, param1, param2):\n",
    "            self.param1 = param1\n",
    "            self.param2 = param2\n",
    "\n",
    "        def method(self):\n",
    "            print(f\"{self.param1} { self.param2}\")\n",
    "    ```"
   ]
  },
  {
   "cell_type": "markdown",
   "id": "9d2d6585-fe8f-433c-aff1-365b80a8de9b",
   "metadata": {},
   "source": [
    "4. Create an instance of the class.\n",
    "    - Instantiate an object of the class by calling the class name as if it were a function, passing any required parameters.\n",
    "  \n",
    "    ```python\n",
    "    object = MyClass(param1='hello', param2='world!')\n",
    "    ```"
   ]
  },
  {
   "cell_type": "markdown",
   "id": "c77796a6-90b7-4f2a-91fe-d40bb13ad64b",
   "metadata": {},
   "source": [
    "5. Access attributes and call methods.\n",
    "    - You can access public attributes by calling its variable name with the instantiated object.\n",
    "  \n",
    "    ```python\n",
    "    print(object.param1)\n",
    "    ```\n",
    "    `[out]: hello`\n",
    "\n",
    "   - You can also call methods or functions defined inside the class just like the attribute.\n",
    "   ```python\n",
    "   object.method()\n",
    "   ```\n",
    "   `[out]: hello world!`"
   ]
  },
  {
   "cell_type": "markdown",
   "id": "e2d756fa-14c2-4509-aca4-d733fda157db",
   "metadata": {},
   "source": [
    "**Terminologies**\n",
    "\n",
    "- **Attributes `object.param1, object.param2`**\n",
    "    - Variables that store data representing the state of an object.\n",
    "    - Define the characteristics or properties of an object.\n",
    "- **Methods `object.method()`**\n",
    "    - Functions defined within a class that operate on the class's attributes.\n",
    "    - Define the behaviors or actions that objects of the class can perform.\n",
    " \n",
    "\n",
    "In Python, `self` is a convention used as the first parameter in the method definitions of a class. It refers to the instance of the class itself. When you call a method on an object, the object itself is passed as the first parameter to the method. By convention, this parameter is named self, but you could technically name it something else (though it's strongly recommended to stick with the convention)."
   ]
  },
  {
   "cell_type": "markdown",
   "id": "16b99988-fa08-42c0-8381-787178e7c974",
   "metadata": {},
   "source": [
    "Let's **define** a simple class called \"Student.\" In the real world, a student has an ID number, a name, an address, and many other details. However, let's focus on these attributes of a student.\n",
    "- ID Number\n",
    "- Name"
   ]
  },
  {
   "cell_type": "code",
   "execution_count": 43,
   "id": "ca822c99-1577-4f22-847b-70f153d491f4",
   "metadata": {},
   "outputs": [],
   "source": [
    "class Student:\n",
    "    def __init__(self, id:int, name:str):\n",
    "        \"\"\"\n",
    "        Docstring: This class constructs a simple student instance with basic\n",
    "        details such as the id number and the name.\n",
    "        \"\"\"\n",
    "        self.id = id\n",
    "        self.name = name\n",
    "\n",
    "    def profile(self):\n",
    "        \"\"\"\n",
    "        Returns a dictionary of the id number and the name.\n",
    "        keys: ['id', 'name']\n",
    "        \"\"\"\n",
    "        out = {'id':self.id, 'name':self.name}\n",
    "        return out"
   ]
  },
  {
   "cell_type": "markdown",
   "id": "fd0adaa4-2007-499b-8648-556af9caf94f",
   "metadata": {},
   "source": [
    "Now let's create an instance of our `Student` class."
   ]
  },
  {
   "cell_type": "code",
   "execution_count": 44,
   "id": "9d73ec14-0d26-4e92-adc5-e19421745525",
   "metadata": {},
   "outputs": [],
   "source": [
    "student1 = Student(789520, 'Jhun Brian')"
   ]
  },
  {
   "cell_type": "markdown",
   "id": "1f37c9fa-e3c0-4fa3-8a5f-3ac0dc77770d",
   "metadata": {},
   "source": [
    "Let's access the attributes for each parameter and call the method from the defined class."
   ]
  },
  {
   "cell_type": "code",
   "execution_count": 45,
   "id": "94c2a6c6-4133-41bd-8e06-0fcbf28b2bb1",
   "metadata": {},
   "outputs": [
    {
     "data": {
      "text/plain": [
       "789520"
      ]
     },
     "execution_count": 45,
     "metadata": {},
     "output_type": "execute_result"
    }
   ],
   "source": [
    "student1.id"
   ]
  },
  {
   "cell_type": "code",
   "execution_count": 46,
   "id": "2c65fd78-937d-4d78-9b0b-92a24746b735",
   "metadata": {},
   "outputs": [
    {
     "data": {
      "text/plain": [
       "'Jhun Brian'"
      ]
     },
     "execution_count": 46,
     "metadata": {},
     "output_type": "execute_result"
    }
   ],
   "source": [
    "student1.name"
   ]
  },
  {
   "cell_type": "code",
   "execution_count": 47,
   "id": "1c592b4c-4030-43b1-814e-15410311fbcd",
   "metadata": {},
   "outputs": [
    {
     "name": "stdout",
     "output_type": "stream",
     "text": [
      "{'id': 789520, 'name': 'Jhun Brian'}\n"
     ]
    }
   ],
   "source": [
    "student1_profile = student1.profile()\n",
    "print(student1_profile)"
   ]
  },
  {
   "cell_type": "markdown",
   "id": "05abe6dc-5956-46ca-977d-571f7e0bcaee",
   "metadata": {},
   "source": [
    "**✨ PRETTY NEAT ✨**"
   ]
  },
  {
   "cell_type": "code",
   "execution_count": null,
   "id": "7fa6b35d-10fb-4f66-8b78-7c6820a0df9f",
   "metadata": {},
   "outputs": [],
   "source": []
  },
  {
   "cell_type": "markdown",
   "id": "c66252ff-f9fc-4ba1-b770-49c938e07c84",
   "metadata": {},
   "source": [
    "## Fundamental Principles of OOP in Python\n",
    "\n",
    "- **Inheritance**\n",
    "    - In Python, inheritance allows a class to inherit `attributes` and `methods` from another class.\n",
    "    - The syntax for inheritance in Python uses parentheses after the class name, indicating the base class(es).\n",
    "    - Inherited methods can be overridden in the derived class to provide specific implementations.\n",
    "\n",
    "- **Abstraction**\n",
    "    - Abstraction in Python involves `hiding the complex implementation details` and exposing only the `essential features` of an object.\n",
    "    - Abstract classes can have abstract methods that must be implemented by concrete subclasses."
   ]
  },
  {
   "cell_type": "markdown",
   "id": "78b28510-6b67-413d-a85f-02e3fa6711b6",
   "metadata": {},
   "source": [
    "### 1. Inheritance"
   ]
  },
  {
   "cell_type": "code",
   "execution_count": 62,
   "id": "ffcca9aa-7d54-4f3c-b753-7a279f80c2b9",
   "metadata": {},
   "outputs": [],
   "source": [
    "class CSStudent(Student):\n",
    "    def __init__(self, name, id, units, fave_sub):\n",
    "        Student.__init__(self, id=id, name=name)\n",
    "        self.units = units\n",
    "        self.fave_sub = fave_sub\n",
    "\n",
    "    def student_details(self):\n",
    "        dict = self.profile()\n",
    "        dict['units_taken'] = self.units\n",
    "        dict['favorite_subject'] = self.fave_sub\n",
    "        return dict"
   ]
  },
  {
   "cell_type": "code",
   "execution_count": 63,
   "id": "a8841bcc-bebd-46a6-b800-1afbb6b5634b",
   "metadata": {},
   "outputs": [],
   "source": [
    "cs1 = CSStudent('Jhun Brian', 789520, 21, 'CS112')"
   ]
  },
  {
   "cell_type": "code",
   "execution_count": 64,
   "id": "1f10874b-4f98-44cb-863c-4ed4940c8b86",
   "metadata": {},
   "outputs": [
    {
     "data": {
      "text/plain": [
       "{'id': 789520,\n",
       " 'name': 'Jhun Brian',\n",
       " 'units_taken': 21,\n",
       " 'favorite_subject': 'CS112'}"
      ]
     },
     "execution_count": 64,
     "metadata": {},
     "output_type": "execute_result"
    }
   ],
   "source": [
    "cs1.student_details()"
   ]
  },
  {
   "cell_type": "markdown",
   "id": "eb7b63d3-f866-449b-b3bc-95c93faf3b54",
   "metadata": {},
   "source": [
    "### 2. Abstraction"
   ]
  },
  {
   "cell_type": "code",
   "execution_count": 79,
   "id": "28fd267c-e7e7-4aff-bda5-c78668018f9b",
   "metadata": {},
   "outputs": [],
   "source": [
    "class DSStudent(Student):\n",
    "    def __init__(self, name, id, units, fave_sub, contact):\n",
    "        Student.__init__(self, id=id, name=name)\n",
    "        self.units = units\n",
    "        self.fave_sub = fave_sub\n",
    "        self.id = id\n",
    "        self.__contact = contact\n",
    "\n",
    "    def __student_details(self):\n",
    "        dict = self.profile()\n",
    "        dict['units_taken'] = self.units\n",
    "        dict['favorite_subject'] = self.fave_sub\n",
    "        dict['contact_num'] = self.__contact\n",
    "        return dict"
   ]
  },
  {
   "cell_type": "code",
   "execution_count": 104,
   "id": "e3aa8984-a2ce-4c7c-9b25-946d221d1d1b",
   "metadata": {},
   "outputs": [],
   "source": [
    "ds1 = DSStudent('Brian', 78952, 21, 'DS312', '09051234567')"
   ]
  },
  {
   "cell_type": "markdown",
   "id": "7397d41c-19c0-4479-bd10-c4210c915257",
   "metadata": {},
   "source": [
    "We cannot access the private methods and attributes. Attributes and methods with two underscores `__` before their names are defined as private."
   ]
  },
  {
   "cell_type": "code",
   "execution_count": 105,
   "id": "3b150acc-8261-48af-ab52-201e7653f2f8",
   "metadata": {},
   "outputs": [
    {
     "ename": "AttributeError",
     "evalue": "'DSStudent' object has no attribute '__student_details'",
     "output_type": "error",
     "traceback": [
      "\u001b[1;31m---------------------------------------------------------------------------\u001b[0m",
      "\u001b[1;31mAttributeError\u001b[0m                            Traceback (most recent call last)",
      "Cell \u001b[1;32mIn[105], line 1\u001b[0m\n\u001b[1;32m----> 1\u001b[0m \u001b[43mds1\u001b[49m\u001b[38;5;241;43m.\u001b[39;49m\u001b[43m__student_details\u001b[49m()\n",
      "\u001b[1;31mAttributeError\u001b[0m: 'DSStudent' object has no attribute '__student_details'"
     ]
    }
   ],
   "source": [
    "ds1.__student_details()"
   ]
  },
  {
   "cell_type": "code",
   "execution_count": 106,
   "id": "41abe322-b34e-449b-87c0-ba5d67534188",
   "metadata": {},
   "outputs": [
    {
     "ename": "AttributeError",
     "evalue": "'DSStudent' object has no attribute '__contact'",
     "output_type": "error",
     "traceback": [
      "\u001b[1;31m---------------------------------------------------------------------------\u001b[0m",
      "\u001b[1;31mAttributeError\u001b[0m                            Traceback (most recent call last)",
      "Cell \u001b[1;32mIn[106], line 1\u001b[0m\n\u001b[1;32m----> 1\u001b[0m \u001b[43mds1\u001b[49m\u001b[38;5;241;43m.\u001b[39;49m\u001b[43m__contact\u001b[49m\n",
      "\u001b[1;31mAttributeError\u001b[0m: 'DSStudent' object has no attribute '__contact'"
     ]
    }
   ],
   "source": [
    "ds1.__contact"
   ]
  },
  {
   "cell_type": "markdown",
   "id": "a8b69abe-6aff-42f7-b5bd-0a97f8bdfcbe",
   "metadata": {},
   "source": [
    "However, we can still access their functionalities and access through this technique."
   ]
  },
  {
   "cell_type": "code",
   "execution_count": 107,
   "id": "98b23d04-5780-4eea-b7f8-4f06250c3a03",
   "metadata": {
    "scrolled": true
   },
   "outputs": [
    {
     "data": {
      "text/plain": [
       "['_DSStudent__contact',\n",
       " '_DSStudent__student_details',\n",
       " '__class__',\n",
       " '__delattr__',\n",
       " '__dict__',\n",
       " '__dir__',\n",
       " '__doc__',\n",
       " '__eq__',\n",
       " '__format__',\n",
       " '__ge__',\n",
       " '__getattribute__',\n",
       " '__gt__',\n",
       " '__hash__',\n",
       " '__init__',\n",
       " '__init_subclass__',\n",
       " '__le__',\n",
       " '__lt__',\n",
       " '__module__',\n",
       " '__ne__',\n",
       " '__new__',\n",
       " '__reduce__',\n",
       " '__reduce_ex__',\n",
       " '__repr__',\n",
       " '__setattr__',\n",
       " '__sizeof__',\n",
       " '__str__',\n",
       " '__subclasshook__',\n",
       " '__weakref__',\n",
       " 'fave_sub',\n",
       " 'id',\n",
       " 'name',\n",
       " 'profile',\n",
       " 'units']"
      ]
     },
     "execution_count": 107,
     "metadata": {},
     "output_type": "execute_result"
    }
   ],
   "source": [
    "dir(ds1)"
   ]
  },
  {
   "cell_type": "code",
   "execution_count": 108,
   "id": "6b99c0cd-d7bb-4263-828b-743a41fe0d85",
   "metadata": {},
   "outputs": [
    {
     "data": {
      "text/plain": [
       "{'id': 78952,\n",
       " 'name': 'Brian',\n",
       " 'units_taken': 21,\n",
       " 'favorite_subject': 'DS312',\n",
       " 'contact_num': '09051234567'}"
      ]
     },
     "execution_count": 108,
     "metadata": {},
     "output_type": "execute_result"
    }
   ],
   "source": [
    "ds1._DSStudent__student_details()"
   ]
  },
  {
   "cell_type": "markdown",
   "id": "49b3e6cb-2e15-4dce-8845-888b9a893a2d",
   "metadata": {},
   "source": [
    "The purpose of abstraction in object-oriented programming is to hide the complex implementation details and expose only the essential features of an object. This helps in creating a clean and simplified interface for interacting with objects, promoting modularity and reducing complexity."
   ]
  },
  {
   "cell_type": "code",
   "execution_count": 109,
   "id": "b86c1046-5b91-4cb5-a62d-3bc79c89f922",
   "metadata": {},
   "outputs": [
    {
     "data": {
      "text/plain": [
       "'09051234567'"
      ]
     },
     "execution_count": 109,
     "metadata": {},
     "output_type": "execute_result"
    }
   ],
   "source": [
    "ds1._DSStudent__contact"
   ]
  },
  {
   "cell_type": "code",
   "execution_count": null,
   "id": "da99c625-0be8-434d-9165-6514e9d57811",
   "metadata": {},
   "outputs": [],
   "source": []
  }
 ],
 "metadata": {
  "kernelspec": {
   "display_name": "Python 3 (ipykernel)",
   "language": "python",
   "name": "python3"
  },
  "language_info": {
   "codemirror_mode": {
    "name": "ipython",
    "version": 3
   },
   "file_extension": ".py",
   "mimetype": "text/x-python",
   "name": "python",
   "nbconvert_exporter": "python",
   "pygments_lexer": "ipython3",
   "version": "3.8.5"
  }
 },
 "nbformat": 4,
 "nbformat_minor": 5
}
