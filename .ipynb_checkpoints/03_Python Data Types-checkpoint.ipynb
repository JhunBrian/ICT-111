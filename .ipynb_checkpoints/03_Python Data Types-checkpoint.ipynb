{
 "cells": [
  {
   "cell_type": "markdown",
   "id": "f08a2dee-9bc1-4e57-80d0-1b75485bf0c0",
   "metadata": {},
   "source": [
    "<a href=\"https://www.python.org/\"><img src=\"https://github.com/JhunBrian/ICT-111/blob/main/figures/py_logo.png?raw=true\" width=90 style=\"float: left\"></a>\n",
    "\n",
    "# Python Data Types\n",
    "\n",
    "</br></br></br>\n",
    "Intstructor: Jhun Brian M. Andam \\\n",
    "Institution: University of Science and Technology of Southern Philippines\n",
    "\n",
    "- https://www.w3schools.com/python/default.asp\n",
    "- https://classroom.google.com/c/NTI5MjU4NTY4NTIy/p/NTI5MjU5NDY1MTUz/details"
   ]
  },
  {
   "cell_type": "code",
   "execution_count": 1,
   "id": "fc5e487e-dede-4aed-93b6-79df9bddda0b",
   "metadata": {},
   "outputs": [
    {
     "name": "stdout",
     "output_type": "stream",
     "text": [
      "I am Brian, and I'm 22 Years young\n"
     ]
    }
   ],
   "source": [
    "print(\"I am Brian, and I'm\", 22, \"Years young\")"
   ]
  },
  {
   "cell_type": "markdown",
   "id": "574d6e7d-3813-4995-8514-6eb103090acc",
   "metadata": {},
   "source": [
    "From the code above, it's apparent that we did not use any variables, but rather than just sole values. And these values have their own `datatypes`.\n",
    "\n",
    "We already know that a `variable` is anything (there are actually proper ways and conventions fo creating a variable) that is being assigned by something. Now what is the `value` then?\n",
    "\n",
    "From our previous examples, the variables were assigned with `integers` and `strings` (i.e., names, words, sentences). These integers and strings are called datatypes, if solely executed, they won't make an interpreter throw an error."
   ]
  },
  {
   "cell_type": "code",
   "execution_count": null,
   "id": "d736016c-fe4a-45f1-b503-9061109b11ab",
   "metadata": {},
   "outputs": [],
   "source": []
  }
 ],
 "metadata": {
  "kernelspec": {
   "display_name": "Python 3 (ipykernel)",
   "language": "python",
   "name": "python3"
  },
  "language_info": {
   "codemirror_mode": {
    "name": "ipython",
    "version": 3
   },
   "file_extension": ".py",
   "mimetype": "text/x-python",
   "name": "python",
   "nbconvert_exporter": "python",
   "pygments_lexer": "ipython3",
   "version": "3.9.4"
  }
 },
 "nbformat": 4,
 "nbformat_minor": 5
}
