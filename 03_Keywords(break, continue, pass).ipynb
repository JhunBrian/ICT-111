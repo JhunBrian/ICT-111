{
 "cells": [
  {
   "cell_type": "markdown",
   "id": "7c7d6fb5-d30e-46e9-983d-47b5c26c6b62",
   "metadata": {},
   "source": [
    "<h1 style=\"color:blue\">Minimizing Numerical Errors with</h1>\n",
    "\n",
    "```python\n",
    "break\n",
    "continue\n",
    "pass\n",
    "```\n",
    "\n",
    "**Instructor: Jhun Brian M. Andam** </br>\n",
    "**Course: CS112**\n",
    "\n",
    "- https://www.programiz.com/python-programming/break-continue"
   ]
  },
  {
   "cell_type": "markdown",
   "id": "cd818f8e-825f-47d1-a19a-60984a52e03d",
   "metadata": {},
   "source": [
    "<h2 style=\"color:blue\">Python <kbd>break</kbd> Statement</h2>\n",
    "\n",
    "<img src=\"https://www.programiz.com/sites/tutorial2program/files/working-break-statement-python.png\" width=250>\n",
    "\n",
    "The `break` statement is used to terminate the loop immediately when it is encountered, it is used in loop statements only. The syntax of the break statement is:\n",
    "\n",
    "```python\n",
    "break\n",
    "```"
   ]
  },
  {
   "cell_type": "code",
   "execution_count": 1,
   "id": "0ece8594-899e-4822-8319-cfecce0aa133",
   "metadata": {},
   "outputs": [
    {
     "name": "stdout",
     "output_type": "stream",
     "text": [
      "0\n",
      "1\n",
      "2\n",
      "3\n",
      "4\n",
      "5\n",
      "6\n",
      "7\n",
      "8\n",
      "9\n",
      "10\n"
     ]
    }
   ],
   "source": [
    "for i in range(0, 100):\n",
    "    print(i)\n",
    "    if i == 10:\n",
    "        break\n",
    "# what happened here?"
   ]
  },
  {
   "cell_type": "markdown",
   "id": "f7009eef-e501-4f63-b588-29b91306e3b9",
   "metadata": {},
   "source": [
    "In the example code above, our iterable object is the range that has 100 (0 to 100) values and an interval of 1, iterating through this object requires a looping statement and conducting the process which is just to simply print the current value of `i` of that iteration.\n",
    "\n",
    "Our condition here is;\n",
    "```python\n",
    "if i == 10:\n",
    "```\n",
    "\n",
    "the loop will break, else if `i` is not equal `10` then the loop will continue.\n",
    "\n",
    "The loop broke at iteration 10 because the condition is now activated to `True`, thus executing the next block of code which is to `break` the loop."
   ]
  },
  {
   "cell_type": "code",
   "execution_count": 2,
   "id": "3f264cfe-c799-49b4-8caf-0e4ac5d01ba4",
   "metadata": {},
   "outputs": [
    {
     "name": "stdout",
     "output_type": "stream",
     "text": [
      "0\n",
      "1\n",
      "2\n",
      "3\n",
      "4\n",
      "5\n",
      "6\n",
      "7\n",
      "8\n",
      "9\n",
      "10\n"
     ]
    }
   ],
   "source": [
    "i = 0\n",
    "\n",
    "while i < 100:\n",
    "    print(i)\n",
    "    if i == 10:\n",
    "        break\n",
    "    i += 1"
   ]
  },
  {
   "cell_type": "markdown",
   "id": "a8955781-27b7-4266-af21-37aae4087b51",
   "metadata": {},
   "source": [
    "For this example, we used the `while` looping statement, we do not have an iterable object instead, we are iterating over each index from the initial value of i until the condition is `True`.\n",
    "\n",
    "Our condition here is while the current value if `i` is less than 100, then the loop will continue to iterate, and if the value of `i` is equal to one hundred, then the loop will terminate."
   ]
  },
  {
   "cell_type": "markdown",
   "id": "bd4f0f7b-ab7a-438a-aaa2-d93c46c2c1ee",
   "metadata": {},
   "source": [
    "<h2 style=\"color:blue\">Python <kbd>continue</kbd> Statement</h2>\n",
    "\n",
    "<img src=\"https://www.programiz.com/sites/tutorial2program/files/working-continue-statement-python.png\" width=250>\n",
    "\n",
    "`Continue` statement is used to continue the next iterations in the loop, it is used in loop statements only. The syntax of the `continue` statement is:\n",
    "\n",
    "```python\n",
    "continue\n",
    "```"
   ]
  },
  {
   "cell_type": "code",
   "execution_count": 3,
   "id": "40131e81-b55e-41ca-95a3-37099d0d6bd9",
   "metadata": {},
   "outputs": [
    {
     "name": "stdout",
     "output_type": "stream",
     "text": [
      "The\n",
      "quick\n",
      "brown\n",
      "jumps\n",
      "over\n",
      "the\n",
      "lazy\n",
      "dog\n"
     ]
    }
   ],
   "source": [
    "txt = \"The quick brown fox jumps over the lazy dog\"\n",
    "\n",
    "for word in txt.split():\n",
    "    if word == 'fox':\n",
    "        continue\n",
    "    print(word)"
   ]
  },
  {
   "cell_type": "markdown",
   "id": "50634201-7d98-45ea-a4a9-c3745ee6c662",
   "metadata": {},
   "source": [
    "In this specific code, when the word being iterated over is `fox`, the continue statement is executed. This means that the code following the continue statement inside the loop will be skipped for that iteration. In this case, it would mean that the `print(word)` statement below the continue will be skipped if the word is `fox`, but the loop will proceed to the next iteration."
   ]
  },
  {
   "cell_type": "markdown",
   "id": "1632f413-918d-4e8d-8fd3-69259977c8ca",
   "metadata": {},
   "source": [
    "<div class=\"alert alert-block alert-info\"><b>Exercise: </b> Replicate the same output above using a <code>while</code> loop. Try to explain each line of your code using comments.</div>"
   ]
  },
  {
   "cell_type": "code",
   "execution_count": 4,
   "id": "c4157592-1d73-4d6f-92f7-4bd126162c27",
   "metadata": {},
   "outputs": [
    {
     "name": "stdout",
     "output_type": "stream",
     "text": [
      "The\n",
      "quick\n",
      "brown\n",
      "jumps\n",
      "over\n",
      "the\n",
      "lazy\n",
      "dog\n"
     ]
    }
   ],
   "source": [
    "idx = 0\n",
    "\n",
    "while idx != len(txt.split()):\n",
    "    if txt.split()[idx] == 'fox':\n",
    "        idx += 1\n",
    "        continue\n",
    "    print(txt.split()[idx])\n",
    "    idx += 1"
   ]
  },
  {
   "cell_type": "markdown",
   "id": "7939f55d-7617-4bc1-9f5a-d4eb2d2a7869",
   "metadata": {},
   "source": [
    "<h2 style=\"color:blue\">Python <kbd>pass</kbd> Statement</h2>\n",
    "\n",
    "The pass statement is used as a **placeholder for future code**. When the pass statement is executed, nothing happens, but you avoid getting an error when empty code is not allowed. Empty code is not allowed in loops, function definitions, class definitions, or in if statements."
   ]
  },
  {
   "cell_type": "code",
   "execution_count": 5,
   "id": "861940ce-c1fd-4902-b4b5-313319ba04d8",
   "metadata": {},
   "outputs": [
    {
     "ename": "SyntaxError",
     "evalue": "unexpected EOF while parsing (2703249411.py, line 3)",
     "output_type": "error",
     "traceback": [
      "\u001b[1;36m  Cell \u001b[1;32mIn[5], line 3\u001b[1;36m\u001b[0m\n\u001b[1;33m    # SyntaxError\u001b[0m\n\u001b[1;37m                 ^\u001b[0m\n\u001b[1;31mSyntaxError\u001b[0m\u001b[1;31m:\u001b[0m unexpected EOF while parsing\n"
     ]
    }
   ],
   "source": [
    "for i in range(1, -100, -1):\n",
    "    # no code\n",
    "    # SyntaxError"
   ]
  },
  {
   "cell_type": "code",
   "execution_count": 6,
   "id": "15eba011-7fa5-4989-96fc-6850113fead6",
   "metadata": {},
   "outputs": [],
   "source": [
    "for i in range(1, -100, -1):\n",
    "    # with pass, nothing happens\n",
    "    pass"
   ]
  },
  {
   "cell_type": "markdown",
   "id": "d920373a-230c-412f-9f0c-98bd01f4950a",
   "metadata": {},
   "source": [
    "**Placeholder for future code**"
   ]
  },
  {
   "cell_type": "code",
   "execution_count": 7,
   "id": "a612a3d9-abf5-469d-88a3-5af04d719bf2",
   "metadata": {},
   "outputs": [],
   "source": [
    "class NeuralNetworkModel:\n",
    "    def __init__(self):\n",
    "        pass\n",
    "\n",
    "    def forward(x):\n",
    "        pass"
   ]
  },
  {
   "cell_type": "markdown",
   "id": "6f430b06-8c6e-4d2f-953a-8dac46340c19",
   "metadata": {},
   "source": [
    "You may need to complete this code to be properly functional."
   ]
  },
  {
   "cell_type": "markdown",
   "id": "c032242a-cd48-41d8-8ebe-dd8bcc04b851",
   "metadata": {
    "jp-MarkdownHeadingCollapsed": true
   },
   "source": [
    "# Laboratory Activity\n",
    "\n",
    "1. Develop a `for` and a `while` looping statement that utilizes all three keywords (`break`, `continue` and `pass` statements).\n",
    "2. Explain each line of your code through comments `#`.\n",
    "3. Also, don't forget to answer the exercise item above."
   ]
  }
 ],
 "metadata": {
  "kernelspec": {
   "display_name": "Python 3 (ipykernel)",
   "language": "python",
   "name": "python3"
  },
  "language_info": {
   "codemirror_mode": {
    "name": "ipython",
    "version": 3
   },
   "file_extension": ".py",
   "mimetype": "text/x-python",
   "name": "python",
   "nbconvert_exporter": "python",
   "pygments_lexer": "ipython3",
   "version": "3.8.5"
  }
 },
 "nbformat": 4,
 "nbformat_minor": 5
}
