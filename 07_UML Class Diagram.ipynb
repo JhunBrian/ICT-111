{
 "cells": [
  {
   "cell_type": "markdown",
   "id": "2246d91b-e251-4c61-8ddf-6383dca9738b",
   "metadata": {},
   "source": [
    "# UML Class Diagram\n",
    "\n",
    "Instructor: Jhun Brian Andam </br>\n",
    "Course: CS112 - Computer Programming (Python)"
   ]
  },
  {
   "cell_type": "markdown",
   "id": "aad6ab84-f15f-48ee-b9f1-9456ce265491",
   "metadata": {},
   "source": [
    "<img src=\"UML.png\">"
   ]
  },
  {
   "cell_type": "markdown",
   "id": "913213e1-b529-4581-846f-a3a74b3da0e6",
   "metadata": {},
   "source": [
    "## Classes in Python"
   ]
  },
  {
   "cell_type": "code",
   "execution_count": 1,
   "id": "93b3e1a3-4662-417d-9b3a-0d58df05426a",
   "metadata": {},
   "outputs": [],
   "source": [
    "class Employee:\n",
    "    def __init__(self, name, employeeID, salary):\n",
    "        self.name = name\n",
    "        self.employeeID = employeeID\n",
    "        self.salary = salary\n",
    "        self.working = None\n",
    "        \n",
    "    def clock_in(self):\n",
    "        print(\"Clocked in successfully\")\n",
    "        self.working = True\n",
    "        \n",
    "    def clock_out(self):\n",
    "        print(\"Clocked out successfully\")\n",
    "        self.working = False"
   ]
  },
  {
   "cell_type": "code",
   "execution_count": 2,
   "id": "0eb4cea7-1949-4c56-9c3f-37f4194e9b21",
   "metadata": {},
   "outputs": [],
   "source": [
    "class FieldOfExpertise:\n",
    "    def __init__(self, field, license):\n",
    "        self.field = field\n",
    "        self.license = license"
   ]
  },
  {
   "cell_type": "code",
   "execution_count": 3,
   "id": "fed4528a-aa7b-4a34-81af-d1ebbcdf9601",
   "metadata": {},
   "outputs": [],
   "source": [
    "class Teacher(Employee):\n",
    "    def __init__(self, name, employeeID, salary, subject, expertise: FieldOfExpertise):\n",
    "        self.name = name\n",
    "        self.employeeID = employeeID\n",
    "        self.salary = salary\n",
    "        self.subject = subject\n",
    "        self.expertise = expertise\n",
    "        Employee.__init__(self, name=self.name, employeeID=self.employeeID, salary=self.salary)\n",
    "\n",
    "    def teach(self):\n",
    "        print(f\"{self.name} is currently teaching {self.subject}\")\n",
    "\n",
    "    def gradePapers(self):\n",
    "        print(f\"Grading papers for {self.subject}\")"
   ]
  },
  {
   "cell_type": "code",
   "execution_count": 7,
   "id": "9ea5611a-8f14-421e-975b-26beac832bbc",
   "metadata": {},
   "outputs": [],
   "source": [
    "class ClassRoom:\n",
    "    def __init__(self, room_code, capacity):\n",
    "        self.room_code = room_code\n",
    "        self.capacity = capacity\n",
    "\n",
    "    def conductClass(self, course):\n",
    "        print(f\"Room is occupied with the {course} class\")\n",
    "\n",
    "    def assignTeacher(self, teacher):\n",
    "        print(f\"{teacher} successfully assigned\")"
   ]
  },
  {
   "cell_type": "code",
   "execution_count": 8,
   "id": "c877a65c-d256-4ccf-ba54-a618b9920661",
   "metadata": {},
   "outputs": [],
   "source": [
    "class Student:\n",
    "    def __init__(self, studentID, name):\n",
    "        self.studentID = studentID\n",
    "        self.name = name\n",
    "        self.isTaken = False\n",
    "        \n",
    "    def study(self):\n",
    "        print(f\"{self.name} is studying\")\n",
    "\n",
    "    def takeExam(self):\n",
    "        print(f\"{self.name} is taking an exam\")\n",
    "        self.isTaken = True"
   ]
  },
  {
   "cell_type": "code",
   "execution_count": 9,
   "id": "f98c1f02-68cb-45c3-bf74-e84e29729081",
   "metadata": {},
   "outputs": [],
   "source": [
    "class Exam:\n",
    "    def __init__(self, totalItems, datetaken, course, isTaken):\n",
    "        self.totalItems = totalItems\n",
    "        self.datetaken = datetaken\n",
    "        self.course = course\n",
    "        self.isTaken = isTaken\n",
    "\n",
    "    def examDetails(self):\n",
    "        print(f\"The exam will be about {self.course} and has {self.totalItems} total items\")"
   ]
  },
  {
   "cell_type": "markdown",
   "id": "b7df9d0b-e89d-4386-a694-7a13e2d513b2",
   "metadata": {},
   "source": [
    "<div class=\"alert alert-block alert-info\"><b>To-do: </b> Create an instance for the <code>Employee</code> class</div> "
   ]
  },
  {
   "cell_type": "code",
   "execution_count": 10,
   "id": "cecde1ce-6ba9-49c8-b778-77e9676824a7",
   "metadata": {},
   "outputs": [
    {
     "name": "stdout",
     "output_type": "stream",
     "text": [
      "Clocked in successfully\n"
     ]
    }
   ],
   "source": [
    "brian_employee = Employee(name='Jhun Brian Andam', employeeID=789520, salary=5000)\n",
    "brian_employee.clock_in()"
   ]
  },
  {
   "cell_type": "code",
   "execution_count": 12,
   "id": "034613d6-a23f-43ce-b0c1-c7cc35c5cb34",
   "metadata": {},
   "outputs": [
    {
     "data": {
      "text/plain": [
       "True"
      ]
     },
     "execution_count": 12,
     "metadata": {},
     "output_type": "execute_result"
    }
   ],
   "source": [
    "brian_employee.working"
   ]
  },
  {
   "cell_type": "markdown",
   "id": "64ef211e-8fca-469d-abcb-a3e264c3725e",
   "metadata": {},
   "source": [
    "<div class=\"alert alert-block alert-info\"><b>To-do: </b> Create an instance for the <code>FieldOfExpertise</code> class</div> "
   ]
  },
  {
   "cell_type": "code",
   "execution_count": 14,
   "id": "161a31b9-d345-4058-8400-c62c601a65d1",
   "metadata": {},
   "outputs": [
    {
     "name": "stdout",
     "output_type": "stream",
     "text": [
      "Data Science 123456789\n"
     ]
    }
   ],
   "source": [
    "expertise = FieldOfExpertise(field=\"Data Science\", license=123456789)\n",
    "print(expertise.field, expertise.license)"
   ]
  },
  {
   "cell_type": "markdown",
   "id": "a64f0a1a-995e-469b-b731-d9d7c8d3ccce",
   "metadata": {},
   "source": [
    "Now since we have an instantiated object for the `FieldOfExpertise` we can now use this as an attribute value for the `Teacher` class. This is called?"
   ]
  },
  {
   "cell_type": "markdown",
   "id": "439cba29-e774-4ecc-8d36-c987eb37b4ca",
   "metadata": {},
   "source": [
    "<div class=\"alert alert-block alert-info\"><b>To-do: </b> Create an instance for the <code>Teacher</code> class</div> "
   ]
  },
  {
   "cell_type": "code",
   "execution_count": 15,
   "id": "e14c1f63-54dc-4d5c-ab57-1f6c5ec1b807",
   "metadata": {},
   "outputs": [],
   "source": [
    "brian_teacher = Teacher(brian_employee.name, brian_employee.employeeID, brian_employee.salary, 'CS112', expertise=expertise)"
   ]
  },
  {
   "cell_type": "code",
   "execution_count": 17,
   "id": "fe493dbe-e3ce-4528-944b-43ff7e444724",
   "metadata": {},
   "outputs": [
    {
     "data": {
      "text/plain": [
       "'Data Science'"
      ]
     },
     "execution_count": 17,
     "metadata": {},
     "output_type": "execute_result"
    }
   ],
   "source": [
    "brian_teacher.expertise.field"
   ]
  },
  {
   "cell_type": "markdown",
   "id": "7c7c8ade-bd04-4fe8-ba58-f5b875eaeae3",
   "metadata": {},
   "source": [
    "<div class=\"alert alert-block alert-info\"><b>To-do: </b> Let's assign a teacher to a classroom.</div> "
   ]
  },
  {
   "cell_type": "code",
   "execution_count": 18,
   "id": "b2a7d1d1-6d10-48eb-a807-52dd63e86ea5",
   "metadata": {},
   "outputs": [
    {
     "name": "stdout",
     "output_type": "stream",
     "text": [
      "Jhun Brian Andam successfully assigned\n"
     ]
    }
   ],
   "source": [
    "cs_class = ClassRoom(room_code=\"9-306\", capacity=33)\n",
    "cs_class.assignTeacher(brian_teacher.name)"
   ]
  },
  {
   "cell_type": "code",
   "execution_count": 21,
   "id": "64c972ed-15a2-44b2-a9db-e336cc1b4d2a",
   "metadata": {},
   "outputs": [
    {
     "name": "stdout",
     "output_type": "stream",
     "text": [
      "Room is occupied with the CS112 class\n"
     ]
    }
   ],
   "source": [
    "cs_class.conductClass(\"CS112\")"
   ]
  },
  {
   "cell_type": "markdown",
   "id": "48d347e5-e367-403c-90bb-ad5c544bc154",
   "metadata": {},
   "source": [
    "<div class=\"alert alert-block alert-info\"><b>To-do: </b> Create an instance for the <code>Student</code> class.</div> "
   ]
  },
  {
   "cell_type": "code",
   "execution_count": 22,
   "id": "e35909e5-2b51-469c-9154-fac7aa6b0790",
   "metadata": {},
   "outputs": [],
   "source": [
    "brian_student = Student(7412369, \"J'brian Andam\")"
   ]
  },
  {
   "cell_type": "markdown",
   "id": "684bca59-e2e7-4877-8664-f1eb17288d14",
   "metadata": {},
   "source": [
    "How do we check the available attributes and methods of an instantiated objects?"
   ]
  },
  {
   "cell_type": "code",
   "execution_count": 24,
   "id": "ccee6db4-93d1-40fa-b35d-43b8be439dfd",
   "metadata": {},
   "outputs": [
    {
     "name": "stdout",
     "output_type": "stream",
     "text": [
      "J'brian Andam is taking an exam\n"
     ]
    }
   ],
   "source": [
    "brian_student.takeExam()"
   ]
  },
  {
   "cell_type": "code",
   "execution_count": 25,
   "id": "60764fc6-b3a1-457b-9400-6e1eed8beac5",
   "metadata": {},
   "outputs": [
    {
     "data": {
      "text/plain": [
       "True"
      ]
     },
     "execution_count": 25,
     "metadata": {},
     "output_type": "execute_result"
    }
   ],
   "source": [
    "brian_student.isTaken"
   ]
  },
  {
   "cell_type": "markdown",
   "id": "7cd77e47-6c2c-4253-9978-ed8df523eab3",
   "metadata": {},
   "source": [
    "<div class=\"alert alert-block alert-info\"><b>To-do: </b> Create an instance for the <code>Exam</code> class.</div> "
   ]
  },
  {
   "cell_type": "code",
   "execution_count": 26,
   "id": "5ec296ea-3978-4b23-9485-f5d43eac6b32",
   "metadata": {},
   "outputs": [],
   "source": [
    "cs112_exam = Exam(100, \"13-12-2023\", \"CS112\", brian_student.isTaken)"
   ]
  },
  {
   "cell_type": "code",
   "execution_count": 31,
   "id": "b4985759-d529-4319-b071-095a0fa98d22",
   "metadata": {},
   "outputs": [
    {
     "data": {
      "text/plain": [
       "True"
      ]
     },
     "execution_count": 31,
     "metadata": {},
     "output_type": "execute_result"
    }
   ],
   "source": [
    "cs112_exam.isTaken"
   ]
  },
  {
   "cell_type": "code",
   "execution_count": null,
   "id": "c2553729-89e3-4119-b919-1541736d37fc",
   "metadata": {},
   "outputs": [],
   "source": []
  }
 ],
 "metadata": {
  "kernelspec": {
   "display_name": "Python 3 (ipykernel)",
   "language": "python",
   "name": "python3"
  },
  "language_info": {
   "codemirror_mode": {
    "name": "ipython",
    "version": 3
   },
   "file_extension": ".py",
   "mimetype": "text/x-python",
   "name": "python",
   "nbconvert_exporter": "python",
   "pygments_lexer": "ipython3",
   "version": "3.8.5"
  }
 },
 "nbformat": 4,
 "nbformat_minor": 5
}
