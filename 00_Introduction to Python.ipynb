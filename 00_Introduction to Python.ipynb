{
 "cells": [
  {
   "cell_type": "markdown",
   "id": "010f8294-586b-4ad8-b7ec-aa8a49b03a7c",
   "metadata": {},
   "source": [
    "<a href=\"https://www.python.org/\"><img src=\"figures/py_logo.png\" width=90 style=\"float: left\"></a>\n",
    "\n",
    "# Introduction to Python Programming\n",
    "\n",
    "</br></br>\n",
    "Intstructor: Jhun Brian M. Andam \\\n",
    "College of Technology\n",
    "\n",
    "- https://www.w3schools.com/python/default.asp\n",
    "- https://classroom.google.com/c/NTI5MjU4NTY4NTIy/p/NTI5MjU5NDY1MTUz/details"
   ]
  },
  {
   "cell_type": "markdown",
   "id": "61cc6ec3-8d46-4b0b-89bc-06a62086f3f8",
   "metadata": {},
   "source": [
    "## History of Python\n",
    "\n",
    "Python is a versatile and widely-used high-level programming language that has evolved over the years to become a cornerstone of modern software development. It was created in the late 1980s by Guido van Rossum, a Dutch programmer, who aimed to develop a language that prioritized readability and ease of use. Python's name was inspired by the British comedy group Monty Python, reflecting Guido's sense of humor. Python's first official release, Python 0.9.0, came in February 1991, and it quickly gained popularity for its clean and concise syntax, which made it accessible to both beginners and experienced programmers.\n",
    "\n",
    "<center><img style=\"float: left\"; src=\"figures/guido.jpg\" width=250></center>\n",
    "\n",
    "Throughout its history, Python has undergone several major releases and improvements, with Python 2 and Python 3 being significant milestones. Python 2 was widely adopted but had some design flaws that needed to be addressed. In 2008, Python 3 was introduced with significant language enhancements and incompatibilities with Python 2. This transition took several years, but the Python community eventually embraced Python 3 due to its improved features and more robust design. Today, Python is known for its large standard library, vibrant ecosystem of third-party packages, and its application in various domains, from web development and data science to scientific research and artificial intelligence, making it one of the most popular and influential programming languages in the world."
   ]
  },
  {
   "cell_type": "markdown",
   "id": "0f85310b-22d6-4aa7-b118-c3817042ca99",
   "metadata": {},
   "source": [
    "> Python's presence in microcontrollers has contributed to the growth of the Internet of Things (IoT) ecosystem. Developers can use MicroPython to create IoT devices and sensors that are easy to program and integrate into larger systems. Python is a general-purpose programming language. That means you can use Python to write code for any programming task. Python is now used in the Google search engine, in mission-critical projects at NASA, and in transaction processing at the New York Stock Exchange.\n",
    "</br>\n",
    "\n",
    "#### Why Python?\n",
    "- Python works on different platforms (Windows, Mac, Linux, Raspberry Pi, etc).\n",
    "- Python has a simple syntax similar to the English language.\n",
    "- Python has syntax that allows developers to write programs with fewer lines than some other programming languages.\n",
    "- Python runs on an interpreter system, meaning that code can be executed as soon as it is written. This means that prototyping can be very quick.\n",
    "- Python can be treated in a procedural way, an object-oriented way or a functional way.\n",
    "\n",
    "#### Python Syntax compared to other programming languages\n",
    "- Python was designed for readability, and has some similarities to the English language with influence from mathematics.\n",
    "- Python uses new lines to complete a command, as opposed to other programming languages which often use semicolons or parentheses.\n",
    "- Python relies on indentation, using whitespace, to define scope; such as the scope of loops, functions and classes. Other programming languages often use curly-brackets for this purpose.\n",
    "\n",
    "**Example** </br>      |\r\n",
    " 2 |"
   ]
  },
  {
   "cell_type": "code",
   "execution_count": null,
   "id": "7c9ddb0e-98f5-4b4c-b324-06aa89cc347e",
   "metadata": {},
   "outputs": [],
   "source": []
  }
 ],
 "metadata": {
  "kernelspec": {
   "display_name": "Python 3 (ipykernel)",
   "language": "python",
   "name": "python3"
  },
  "language_info": {
   "codemirror_mode": {
    "name": "ipython",
    "version": 3
   },
   "file_extension": ".py",
   "mimetype": "text/x-python",
   "name": "python",
   "nbconvert_exporter": "python",
   "pygments_lexer": "ipython3",
   "version": "3.9.4"
  }
 },
 "nbformat": 4,
 "nbformat_minor": 5
}
