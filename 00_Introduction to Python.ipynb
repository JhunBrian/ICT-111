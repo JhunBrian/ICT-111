{
 "cells": [
  {
   "cell_type": "markdown",
   "id": "953641f0",
   "metadata": {
    "papermill": {
     "duration": 0.002361,
     "end_time": "2023-10-08T00:59:10.859318",
     "exception": false,
     "start_time": "2023-10-08T00:59:10.856957",
     "status": "completed"
    },
    "tags": []
   },
   "source": [
    "<a href=\"https://www.python.org/\"><img src=\"https://github.com/JhunBrian/ICT-111/blob/main/figures/py_logo.png?raw=true\" width=90 style=\"float: left\"></a>\n",
    "\n",
    "# Introduction to Python Programming\n",
    "\n",
    "</br></br>\n",
    "Intstructor: Jhun Brian M. Andam \\\n",
    "College of Technology\n",
    "\n",
    "- https://www.w3schools.com/python/default.asp\n",
    "- https://classroom.google.com/c/NTI5MjU4NTY4NTIy/p/NTI5MjU5NDY1MTUz/details"
   ]
  },
  {
   "cell_type": "markdown",
   "id": "8f964381",
   "metadata": {
    "papermill": {
     "duration": 0.00151,
     "end_time": "2023-10-08T00:59:10.862779",
     "exception": false,
     "start_time": "2023-10-08T00:59:10.861269",
     "status": "completed"
    },
    "tags": []
   },
   "source": [
    "## 📜 History of Python\n",
    "\n",
    "<p>Python is a versatile and widely-used high-level programming language that has evolved over the years to become a cornerstone of modern software development. It was created in the late 1980s by Guido van Rossum, a Dutch programmer, who aimed to develop a language that prioritized readability and ease of use. Python's name was inspired by the British comedy group Monty Python, reflecting Guido's sense of humor. Python's first official release, Python 0.9.0, came in February 1991, and it quickly gained popularity for its clean and concise syntax, which made it accessible to both beginners and experienced programmers.</p>\n",
    "\n",
    "<div style=\"display: flex; align-items: center;\">\n",
    "    <div style=\"flex: 1;\">\n",
    "        <img src=\"https://github.com/JhunBrian/ICT-111/blob/main/figures/guido.jpg?raw=true\" width=\"100%\">\n",
    "    </div>\n",
    "    <div style=\"flex: 1; padding-left: 20px;\">\n",
    "        <p>Throughout its history, Python has undergone several major releases and improvements, with Python 2 and Python 3 being significant milestones. Python 2 was widely adopted but had some design flaws that needed to be addressed. In 2008, Python 3 was introduced with significant language enhancements and incompatibilities with Python 2. This transition took several years, but the Python community eventually embraced Python 3 due to its improved features and more robust design. Today, Python is known for its large standard library, vibrant ecosystem of third-party packages, and its application in various domains, from web development and data science to scientific research and artificial intelligence, making it one of the most popular and influential programming languages in the world.</p>\n",
    "    </div>\n",
    "</div>\n",
    "</br>\n",
    "\n",
    "> Python's presence in microcontrollers has contributed to the growth of the Internet of Things (IoT) ecosystem. Developers can use MicroPython to create IoT devices and sensors that are easy to program and integrate into larger systems. Python is a general-purpose programming language. That means you can use Python to write code for any programming task. Python is now used in the Google search engine, in mission-critical projects at NASA, and in transaction processing at the New York Stock Exchange."
   ]
  },
  {
   "cell_type": "markdown",
   "id": "7b2a89da",
   "metadata": {
    "papermill": {
     "duration": 0.001444,
     "end_time": "2023-10-08T00:59:10.867543",
     "exception": false,
     "start_time": "2023-10-08T00:59:10.866099",
     "status": "completed"
    },
    "tags": []
   },
   "source": [
    "### Why Python?\n",
    "- Python works on different platforms (Windows, Mac, Linux, Raspberry Pi, etc).\n",
    "- Python has a simple syntax similar to the English language.\n",
    "- Python has syntax that allows developers to write programs with fewer lines than some other programming languages.\n",
    "- Python runs on an interpreter system, meaning that code can be executed as soon as it is written. This means that prototyping can be very quick.\n",
    "- Python can be treated in a procedural way, an object-oriented way or a functional way.\n",
    "\n",
    "### Python Syntax compared to other programming languages\n",
    "- Python was designed for readability, and has some similarities to the English language with influence from mathematics.\n",
    "- Python uses new lines to complete a command, as opposed to other programming languages which often use semicolons or parentheses.\n",
    "- Python relies on indentation, using whitespace, to define scope; such as the scope of loops, functions and classes. Other programming languages often use curly-brackets for this purpose.\n",
    "\n",
    "<div class=\"alert alert-block alert-success\"><strong><h3>Programming Language Comparison</h3></strong><br>\n",
    "\n",
    "<h4>Python:</h4>\n",
    "    \n",
    "```{python}\n",
    "print(\"Hello World!\")\n",
    "```\n",
    "\n",
    "<h4>C:</h4>\n",
    "    \n",
    "```{C}\n",
    "#include <stdio.h>\n",
    "\n",
    "int main() {\n",
    "  printf(\"Hello World!\");\n",
    "  return 0;\n",
    "}\n",
    "```\n",
    "    \n",
    "<h4>Java:</h4>\n",
    "    \n",
    "```{Java}\n",
    "public class Main {\n",
    "  public static void main(String[] args) {\n",
    "    System.out.println(\"Hello World\");\n",
    "  }\n",
    "}\n",
    "```\n",
    "    \n",
    "</div>"
   ]
  },
  {
   "cell_type": "markdown",
   "id": "b6d1b700",
   "metadata": {
    "papermill": {
     "duration": 0.001469,
     "end_time": "2023-10-08T00:59:10.870622",
     "exception": false,
     "start_time": "2023-10-08T00:59:10.869153",
     "status": "completed"
    },
    "tags": []
   },
   "source": [
    "## 🚀 Let's Get Started!\n",
    "\n",
    "### Python Install\n",
    "\n",
    "Many PCs and Macs will have python already installed.\n",
    "\n",
    "To check if you have python installed on a Windows PC, search in the start bar for Python or run the following on the Command Line (cmd.exe):\n",
    "\n",
    "`C:\\Users\\Your Name>python --version`\n",
    "\n",
    "To check if you have python installed on a Linux or Mac, then on linux open the command line or on Mac open the Terminal and type:\n",
    "\n",
    "`python --version`\n",
    "\n",
    "If you find that you do not have Python installed on your computer, then you can download it for free from the following website: https://www.python.org/\n",
    "\n",
    "### Python Quickstart\n",
    "\n",
    "Python is an interpreted programming language, this means that as a developer you write Python (.py) files in a text editor and then put those files into the python interpreter to be executed.\n",
    "\n",
    "The way to run a python file is like this on the command line:\n",
    "\n",
    "`C:\\Users\\Your Name>python helloworld.py`\n",
    "\n",
    "Where `\"helloworld.py\"` is the name of your python file.\n",
    "\n",
    "Let's write our first Python file, called helloworld.py, which can be done in any text editor.\n",
    "\n",
    "**helloworld.py**\n",
    "    \n",
    "`print(\"Hello, World!\")`\n",
    "\n",
    "Simple as that. Save your file. Open your command line, navigate to the directory where you saved your file, and run:\n",
    "\n",
    "`C:\\Users\\Your Name>python helloworld.py`\n",
    "\n",
    "The output should read:\n",
    "\n",
    "`Hello, World!`\n",
    "\n",
    "Congratulations! 🎉, you have written and executed your first Python program."
   ]
  },
  {
   "cell_type": "code",
   "execution_count": null,
   "id": "86fb1c39",
   "metadata": {
    "papermill": {
     "duration": 0.001561,
     "end_time": "2023-10-08T00:59:10.873786",
     "exception": false,
     "start_time": "2023-10-08T00:59:10.872225",
     "status": "completed"
    },
    "tags": []
   },
   "outputs": [],
   "source": []
  }
 ],
 "metadata": {
  "kernelspec": {
   "display_name": "Python 3",
   "language": "python",
   "name": "python3"
  },
  "language_info": {
   "codemirror_mode": {
    "name": "ipython",
    "version": 3
   },
   "file_extension": ".py",
   "mimetype": "text/x-python",
   "name": "python",
   "nbconvert_exporter": "python",
   "pygments_lexer": "ipython3",
   "version": "3.10.12"
  },
  "papermill": {
   "default_parameters": {},
   "duration": 4.471455,
   "end_time": "2023-10-08T00:59:11.297580",
   "environment_variables": {},
   "exception": null,
   "input_path": "__notebook__.ipynb",
   "output_path": "__notebook__.ipynb",
   "parameters": {},
   "start_time": "2023-10-08T00:59:06.826125",
   "version": "2.4.0"
  }
 },
 "nbformat": 4,
 "nbformat_minor": 5
}
