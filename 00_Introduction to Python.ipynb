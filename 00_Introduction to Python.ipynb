{
 "cells": [
  {
   "cell_type": "markdown",
   "id": "555d530c",
   "metadata": {
    "papermill": {
     "duration": 0.001992,
     "end_time": "2023-10-08T00:32:00.760158",
     "exception": false,
     "start_time": "2023-10-08T00:32:00.758166",
     "status": "completed"
    },
    "tags": []
   },
   "source": [
    "<a href=\"https://www.python.org/\"><img src=\"https://github.com/JhunBrian/ICT-111/blob/main/figures/py_logo.png?raw=true\" width=90 style=\"float: left\"></a>\n",
    "\n",
    "# Introduction to Python Programming\n",
    "\n",
    "</br></br>\n",
    "Intstructor: Jhun Brian M. Andam \\\n",
    "College of Technology\n",
    "\n",
    "- https://www.w3schools.com/python/default.asp\n",
    "- https://classroom.google.com/c/NTI5MjU4NTY4NTIy/p/NTI5MjU5NDY1MTUz/details"
   ]
  },
  {
   "cell_type": "markdown",
   "id": "76f36661",
   "metadata": {
    "papermill": {
     "duration": 0.00123,
     "end_time": "2023-10-08T00:32:00.763079",
     "exception": false,
     "start_time": "2023-10-08T00:32:00.761849",
     "status": "completed"
    },
    "tags": []
   },
   "source": [
    "## History of Python\n",
    "\n",
    "Python is a versatile and widely-used high-level programming language that has evolved over the years to become a cornerstone of modern software development. It was created in the late 1980s by Guido van Rossum, a Dutch programmer, who aimed to develop a language that prioritized readability and ease of use. Python's name was inspired by the British comedy group Monty Python, reflecting Guido's sense of humor. Python's first official release, Python 0.9.0, came in February 1991, and it quickly gained popularity for its clean and concise syntax, which made it accessible to both beginners and experienced programmers.\n",
    "\n",
    "<center><img style=\"float: left\"; src=\"https://github.com/JhunBrian/ICT-111/blob/main/figures/guido.jpg?raw=true\" width=250></center>\n",
    "\n",
    "Throughout its history, Python has undergone several major releases and improvements, with Python 2 and Python 3 being significant milestones. Python 2 was widely adopted but had some design flaws that needed to be addressed. In 2008, Python 3 was introduced with significant language enhancements and incompatibilities with Python 2. This transition took several years, but the Python community eventually embraced Python 3 due to its improved features and more robust design. Today, Python is known for its large standard library, vibrant ecosystem of third-party packages, and its application in various domains, from web development and data science to scientific research and artificial intelligence, making it one of the most popular and influential programming languages in the world."
   ]
  },
  {
   "cell_type": "markdown",
   "id": "229b4abf",
   "metadata": {
    "papermill": {
     "duration": 0.002935,
     "end_time": "2023-10-08T00:32:00.767376",
     "exception": false,
     "start_time": "2023-10-08T00:32:00.764441",
     "status": "completed"
    },
    "tags": []
   },
   "source": [
    "> Python's presence in microcontrollers has contributed to the growth of the Internet of Things (IoT) ecosystem. Developers can use MicroPython to create IoT devices and sensors that are easy to program and integrate into larger systems. Python is a general-purpose programming language. That means you can use Python to write code for any programming task. Python is now used in the Google search engine, in mission-critical projects at NASA, and in transaction processing at the New York Stock Exchange.\n",
    "</br>\n",
    "\n",
    "#### Why Python?\n",
    "- Python works on different platforms (Windows, Mac, Linux, Raspberry Pi, etc).\n",
    "- Python has a simple syntax similar to the English language.\n",
    "- Python has syntax that allows developers to write programs with fewer lines than some other programming languages.\n",
    "- Python runs on an interpreter system, meaning that code can be executed as soon as it is written. This means that prototyping can be very quick.\n",
    "- Python can be treated in a procedural way, an object-oriented way or a functional way.\n",
    "\n",
    "#### Python Syntax compared to other programming languages\n",
    "- Python was designed for readability, and has some similarities to the English language with influence from mathematics.\n",
    "- Python uses new lines to complete a command, as opposed to other programming languages which often use semicolons or parentheses.\n",
    "- Python relies on indentation, using whitespace, to define scope; such as the scope of loops, functions and classes. Other programming languages often use curly-brackets for this purpose.\n",
    "\n",
    "**Example**"
   ]
  },
  {
   "cell_type": "code",
   "execution_count": null,
   "id": "63b0d066",
   "metadata": {
    "papermill": {
     "duration": 0.001157,
     "end_time": "2023-10-08T00:32:00.769920",
     "exception": false,
     "start_time": "2023-10-08T00:32:00.768763",
     "status": "completed"
    },
    "tags": []
   },
   "outputs": [],
   "source": []
  }
 ],
 "metadata": {
  "kernelspec": {
   "display_name": "Python 3",
   "language": "python",
   "name": "python3"
  },
  "language_info": {
   "codemirror_mode": {
    "name": "ipython",
    "version": 3
   },
   "file_extension": ".py",
   "mimetype": "text/x-python",
   "name": "python",
   "nbconvert_exporter": "python",
   "pygments_lexer": "ipython3",
   "version": "3.10.12"
  },
  "papermill": {
   "default_parameters": {},
   "duration": 3.583116,
   "end_time": "2023-10-08T00:32:01.093359",
   "environment_variables": {},
   "exception": null,
   "input_path": "__notebook__.ipynb",
   "output_path": "__notebook__.ipynb",
   "parameters": {},
   "start_time": "2023-10-08T00:31:57.510243",
   "version": "2.4.0"
  }
 },
 "nbformat": 4,
 "nbformat_minor": 5
}
