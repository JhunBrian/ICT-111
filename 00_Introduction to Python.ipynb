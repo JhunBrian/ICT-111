{
 "cells": [
  {
   "cell_type": "markdown",
   "id": "953641f0",
   "metadata": {
    "papermill": {
     "duration": 0.002361,
     "end_time": "2023-10-08T00:59:10.859318",
     "exception": false,
     "start_time": "2023-10-08T00:59:10.856957",
     "status": "completed"
    },
    "tags": []
   },
   "source": [
    "<a href=\"https://www.python.org/\"><img src=\"https://github.com/JhunBrian/ICT-111/blob/main/figures/py_logo.png?raw=true\" width=90 style=\"float: left\"></a>\n",
    "\n",
    "# Introduction to Python Programming\n",
    "\n",
    "</br></br></br>\n",
    "Intstructor: Jhun Brian M. Andam \\\n",
    "Institution: University of Science and Technology of Southern Philippines\n",
    "\n",
    "- https://www.w3schools.com/python/default.asp\n",
    "- https://classroom.google.com/c/NTI5MjU4NTY4NTIy/p/NTI5MjU5NDY1MTUz/details"
   ]
  },
  {
   "cell_type": "markdown",
   "id": "8f964381",
   "metadata": {
    "papermill": {
     "duration": 0.00151,
     "end_time": "2023-10-08T00:59:10.862779",
     "exception": false,
     "start_time": "2023-10-08T00:59:10.861269",
     "status": "completed"
    },
    "tags": []
   },
   "source": [
    "## 📜 History of Python\n",
    "\n",
    "<p>Python is a versatile and widely-used high-level programming language that has evolved over the years to become a cornerstone of modern software development. It was created in the late 1980s by Guido van Rossum, a Dutch programmer, who aimed to develop a language that prioritized readability and ease of use. Python's name was inspired by the British comedy group Monty Python, reflecting Guido's sense of humor. Python's first official release, Python 0.9.0, came in February 1991, and it quickly gained popularity for its clean and concise syntax, which made it accessible to both beginners and experienced programmers.</p>\n",
    "\n",
    "<div style=\"display: flex; align-items: center;\">\n",
    "    <div style=\"flex: 1;\">\n",
    "        <img src=\"https://github.com/JhunBrian/ICT-111/blob/main/figures/guido.jpg?raw=true\" width=\"100%\">\n",
    "    </div>\n",
    "    <div style=\"flex: 1; padding-left: 20px;\">\n",
    "        <p>Throughout its history, Python has undergone several major releases and improvements, with Python 2 and Python 3 being significant milestones. Python 2 was widely adopted but had some design flaws that needed to be addressed. In 2008, Python 3 was introduced with significant language enhancements and incompatibilities with Python 2. This transition took several years, but the Python community eventually embraced Python 3 due to its improved features and more robust design. Today, Python is known for its large standard library, vibrant ecosystem of third-party packages, and its application in various domains, from web development and data science to scientific research and artificial intelligence, making it one of the most popular and influential programming languages in the world.</p>\n",
    "    </div>\n",
    "</div>\n",
    "</br>\n",
    "\n",
    "> Python's presence in microcontrollers has contributed to the growth of the Internet of Things (IoT) ecosystem. Developers can use MicroPython to create IoT devices and sensors that are easy to program and integrate into larger systems. Python is a general-purpose programming language. That means you can use Python to write code for any programming task. Python is now used in the Google search engine, in mission-critical projects at NASA, and in transaction processing at the New York Stock Exchange."
   ]
  },
  {
   "cell_type": "markdown",
   "id": "7b2a89da",
   "metadata": {
    "papermill": {
     "duration": 0.001444,
     "end_time": "2023-10-08T00:59:10.867543",
     "exception": false,
     "start_time": "2023-10-08T00:59:10.866099",
     "status": "completed"
    },
    "tags": []
   },
   "source": [
    "### Why Python?\n",
    "- Python works on different platforms (Windows, Mac, Linux, Raspberry Pi, etc).\n",
    "- Python has a simple syntax similar to the English language.\n",
    "- Python has syntax that allows developers to write programs with fewer lines than some other programming languages.\n",
    "- Python runs on an interpreter system, meaning that code can be executed as soon as it is written. This means that prototyping can be very quick.\n",
    "- Python can be treated in a procedural way, an object-oriented way or a functional way.\n",
    "\n",
    "### Python Syntax compared to other programming languages\n",
    "- Python was designed for readability, and has some similarities to the English language with influence from mathematics.\n",
    "- Python uses new lines to complete a command, as opposed to other programming languages which often use semicolons or parentheses.\n",
    "- Python relies on indentation, using whitespace, to define scope; such as the scope of loops, functions and classes. Other programming languages often use curly-brackets for this purpose.\n",
    "\n",
    "<div class=\"alert alert-block alert-success\"><strong><h3>Programming Language Comparison</h3></strong><br>\n",
    "\n",
    "<h4>Python:</h4>\n",
    "    \n",
    "```python\n",
    "print(\"Hello World!\")\n",
    "```\n",
    "\n",
    "<h4>C:</h4>\n",
    "    \n",
    "```C\n",
    "#include <stdio.h>\n",
    "\n",
    "int main() {\n",
    "  printf(\"Hello World!\");\n",
    "  return 0;\n",
    "}\n",
    "```\n",
    "    \n",
    "<h4>Java:</h4>\n",
    "    \n",
    "```Java\n",
    "public class Main {\n",
    "  public static void main(String[] args) {\n",
    "    System.out.println(\"Hello World\");\n",
    "  }\n",
    "}\n",
    "```\n",
    "    \n",
    "</div>"
   ]
  },
  {
   "cell_type": "markdown",
   "id": "b6d1b700",
   "metadata": {
    "papermill": {
     "duration": 0.001469,
     "end_time": "2023-10-08T00:59:10.870622",
     "exception": false,
     "start_time": "2023-10-08T00:59:10.869153",
     "status": "completed"
    },
    "tags": []
   },
   "source": [
    "### Python Quickstart\n",
    "\n",
    "Python is an interpreted programming language, this means that as a developer you write Python (.py) files in a text editor and then put those files into the python interpreter to be executed.\n",
    "\n",
    "The way to run a python file is like this on the command line:\n",
    "\n",
    "`C:\\Users\\Your Name>python helloworld.py`\n",
    "\n",
    "Where `\"helloworld.py\"` is the name of your python file.\n",
    "\n",
    "Let's write our first Python file, called helloworld.py, which can be done in any text editor.\n",
    "\n",
    "**helloworld.py**\n",
    "    \n",
    "`print(\"Hello, World!\")`\n",
    "\n",
    "Simple as that. Save your file. Open your command line, navigate to the directory where you saved your file, and run:\n",
    "\n",
    "`C:\\Users\\Your Name>python helloworld.py`\n",
    "\n",
    "The output should read:\n",
    "\n",
    "`Hello, World!`\n",
    "\n",
    "Congratulations! 🎉, you have written and executed your first Python program.\n",
    "\n",
    "<center><img src=\"https://raw.githubusercontent.com/JhunBrian/ICT-111/619d245f6c30fa7965c75a11545fe09a39cca8b4/figures/cmd1.png\" width=\"50%\"></center>"
   ]
  },
  {
   "cell_type": "markdown",
   "id": "4deb6f5e-6183-4b0a-8ac7-d4f0a78c59ae",
   "metadata": {},
   "source": [
    "## 🚀 Let's Get Started!\n",
    "\n",
    "### Python Install\n",
    "\n",
    "Many PCs and Macs will have python already installed.\n",
    "\n",
    "To check if you have python installed on a Windows PC, search in the start bar for Python or run the following on the Command Line (cmd.exe):\n",
    "\n",
    "`C:\\Users\\Your Name>python --version`\n",
    "\n",
    "To check if you have python installed on a Linux or Mac, then on linux open the command line or on Mac open the Terminal and type:\n",
    "\n",
    "`python --version`\n",
    "\n",
    "If you find that you do not have Python installed on your computer, then you can download it for free from the following website: https://www.python.org/"
   ]
  },
  {
   "cell_type": "markdown",
   "id": "61d841c9-fd0d-4c33-8e65-fc5f605cd694",
   "metadata": {},
   "source": [
    "<div class=\"alert alert-block alert-success\"><b>To-do: </b> Follow the instructions above and install Python.</div>"
   ]
  },
  {
   "cell_type": "markdown",
   "id": "514e82ca-873f-4acd-be53-92d263851155",
   "metadata": {},
   "source": [
    "## 👨‍💻Python Syntax\n",
    "\n",
    "Syntax refers to the rules that define the structure of a language. Syntax in computer programming means the rules that control the structure of the symbols, punctuation, and words of a programming language.\n",
    "\n",
    "Without syntax, the meaning or semantics of a language is nearly impossible to understand.\n",
    "\n",
    "**Example**\n",
    "\n",
    "SVO, which stands for Subject-Verb-Object, is a fundamental and common sentence structure in the English language. In an SVO sentence, the subject performs an action (the verb) on an object.\n",
    "\n",
    "`She loves ice-cream.`\n",
    "\n",
    "- She: subject\n",
    "- loves: verb\n",
    "- ice-cream: object\n",
    "\n",
    "\r\n",
    "Sentence structure in the English language, exemplified by the Subject-Verb-Object (SVO) pattern, plays a pivotal role in conveying meaning clearly and logically. Similarly, in Python programming, adherence to structured code syntax, characterized by indentation for defining blocks, clear statements, functions, conditional statements, and loops, is essential for readability and functional code. Just as proper sentence structure ensures coherent communication in English, adhering to Python's code structure rules ensures well-organized, comprehensible, and functional code, ultimately facilitating effective programming and collaboration.\n",
    "\r\n",
    "\r\n"
   ]
  },
  {
   "cell_type": "markdown",
   "id": "f6151dee-ca03-4dd6-a1ad-8cd686898713",
   "metadata": {},
   "source": [
    "### Python Indentation\n",
    "Indentation refers to the spaces at the beginning of a code line.\r\n",
    "\r\n",
    "Where in other programming languages the indentation in code is for readability only, the indentation in Python is very important.\r\n",
    "\r\n",
    "Python uses indentation to indicate a block of code."
   ]
  },
  {
   "cell_type": "code",
   "execution_count": 2,
   "id": "28b770ae-ee07-4cb2-a53d-95b68a3978c4",
   "metadata": {},
   "outputs": [
    {
     "name": "stdout",
     "output_type": "stream",
     "text": [
      "2 is greater than 1\n"
     ]
    }
   ],
   "source": [
    "if 2 > 1:\n",
    "    print(\"2 is greater than 1\")"
   ]
  },
  {
   "cell_type": "markdown",
   "id": "df76b678-f3f1-4a5f-9bdd-fdb8aa0e561f",
   "metadata": {},
   "source": [
    "The Python interpreter will throw an `IndentationError` if there are issues with the indentation of code within a block. "
   ]
  },
  {
   "cell_type": "code",
   "execution_count": 7,
   "id": "1b4d9689-2119-4775-8794-a7fe06860e05",
   "metadata": {},
   "outputs": [
    {
     "ename": "IndentationError",
     "evalue": "expected an indented block (1674333337.py, line 2)",
     "output_type": "error",
     "traceback": [
      "\u001b[1;36m  Cell \u001b[1;32mIn[7], line 2\u001b[1;36m\u001b[0m\n\u001b[1;33m    print(\"2 is greater than 1\")\u001b[0m\n\u001b[1;37m    ^\u001b[0m\n\u001b[1;31mIndentationError\u001b[0m\u001b[1;31m:\u001b[0m expected an indented block\n"
     ]
    }
   ],
   "source": [
    "if 2 > 1:\n",
    "print(\"2 is greater than 1\")"
   ]
  },
  {
   "cell_type": "markdown",
   "id": "6bfdf839-99d7-4a63-a412-f96034b44fea",
   "metadata": {},
   "source": [
    "#### When to Indent?\n",
    "In Python, indentations are applied to define the structure and hierarchy of code blocks. Indentations indicate which lines of code are part of a specific block or scope. Here are common places where indentations are used in Python:\n",
    "\n",
    "1. **Blocks of code**: Indentations are primarily used to define blocks of code, such as within functions, loops, conditional statements, and classes. Any code indented at the same level is considered part of the same block. For example:\n",
    "```python\n",
    "def myfunc():\n",
    "    print('Hello World!')\n",
    "```\n",
    "\n",
    "2. **Conditional Statements**: In if statements, elif statements, and else clauses, the indented code beneath them is executed based on the condition's evaluation. For example:\n",
    "```python\n",
    "if 2 > 1:\n",
    "    print('2 is greater than 1!')\n",
    "```\n",
    "3. **Loops**:  Indentation is used to define the body of loops (for loops and while loops) and control the code that gets executed repeatedly. For example:\n",
    "```python\n",
    "for i in range(4):\n",
    "    print(i + 1)\n",
    "```\n",
    "\n",
    "4. **Function Definitions**: When defining functions, indentation is used to indicate the scope of the function, including the code that belongs to the function. For example:\n",
    "```python\n",
    "def myfunc(param1: int, param2: int):\n",
    "    print(param1  + param2)\n",
    "```\n",
    "\n",
    "5. **Class Definitions**: In Python, classes are defined with indentation. The attributes and methods within a class are indented to show that they are part of the class. For example:\n",
    "```python\n",
    "class MyClass:\n",
    "    def __init__(self):\n",
    "        pass\n",
    "\n",
    "    def method1(self):\n",
    "        pass\n",
    "```\r\n"
   ]
  },
  {
   "cell_type": "markdown",
   "id": "59990c2a-b89d-42e1-bce1-c1d466a8f6ff",
   "metadata": {},
   "source": [
    "### Python Variables\n",
    "\n",
    "In Python, a variable is a symbolic name that represents or refers to a value stored in the computer's memory. It is a fundamental concept in programming and is used to store and manipulate data within a program. In Python, variables are created when you assign a value to it.\n",
    "\n",
    "```python\n",
    "name = 'Brian'\n",
    "```\n",
    "\n",
    "`name` is the variable and `Brian` is the assigned value of that variable.\r\n"
   ]
  },
  {
   "cell_type": "code",
   "execution_count": 11,
   "id": "4dcd387f-ed9c-4828-896d-716bbdb5f116",
   "metadata": {},
   "outputs": [
    {
     "name": "stdout",
     "output_type": "stream",
     "text": [
      "4\n"
     ]
    }
   ],
   "source": [
    "x = 1\n",
    "y = 3\n",
    "print(x + y)"
   ]
  },
  {
   "cell_type": "markdown",
   "id": "122d143a-5371-43f4-903f-326f69d8cc21",
   "metadata": {},
   "source": [
    "`x` and `y` are the variables where values of integer data type is stored."
   ]
  },
  {
   "cell_type": "code",
   "execution_count": 12,
   "id": "72d97c6f-f0cc-4af2-aca3-740b52205696",
   "metadata": {},
   "outputs": [
    {
     "ename": "NameError",
     "evalue": "name 'z' is not defined",
     "output_type": "error",
     "traceback": [
      "\u001b[1;31m---------------------------------------------------------------------------\u001b[0m",
      "\u001b[1;31mNameError\u001b[0m                                 Traceback (most recent call last)",
      "Cell \u001b[1;32mIn[12], line 1\u001b[0m\n\u001b[1;32m----> 1\u001b[0m \u001b[43mz\u001b[49m\n",
      "\u001b[1;31mNameError\u001b[0m: name 'z' is not defined"
     ]
    }
   ],
   "source": [
    "z"
   ]
  },
  {
   "cell_type": "markdown",
   "id": "81d3704e-030c-42bc-ba77-9a49df3ee3f8",
   "metadata": {},
   "source": [
    "If `something` is executed without being assigned to a value first, the interpreter will return a `NameError`."
   ]
  },
  {
   "cell_type": "code",
   "execution_count": 13,
   "id": "abfdc504-b9a2-441d-baf4-1ac9da540593",
   "metadata": {},
   "outputs": [
    {
     "name": "stdout",
     "output_type": "stream",
     "text": [
      "4\n"
     ]
    }
   ],
   "source": [
    "z = (x + y)\n",
    "print(z)"
   ]
  },
  {
   "cell_type": "markdown",
   "id": "b2e9e7ff-7e06-4688-b6ec-42d0deb8f1ea",
   "metadata": {},
   "source": [
    "We can assign a value to a variable using the equal (`=`) sign.\n",
    "\n",
    "```python\n",
    "z = (x + y)\n",
    "print(z)\n",
    "```"
   ]
  },
  {
   "cell_type": "markdown",
   "id": "77c8de01-e8be-4a8d-9923-3356bfe6e87f",
   "metadata": {},
   "source": [
    "### Comments\n",
    "\n",
    "Python has commenting capability for the purpose of in-code documentation.\n",
    "\n",
    "Comments start with a `#`, and Python will render the rest of the line as a comment:\n",
    "\n",
    "```python\n",
    "def sum_nums(num1, num2):\n",
    "    # this function returns the sum of two integers.\n",
    "    return num1 + num2\n",
    "```\n",
    "\n",
    "You can also `comment` a code, a commented code will not be executed."
   ]
  },
  {
   "cell_type": "code",
   "execution_count": 17,
   "id": "73421af1-3a98-42b5-bf2c-edb64a55d208",
   "metadata": {},
   "outputs": [],
   "source": [
    "# print(1 + 2)\n",
    "\n",
    "# for i in range(1, 10):\n",
    "#     if i % 2 == 0:\n",
    "#         print(f'{i} is even')\n",
    "#     else:\n",
    "#         print(f'{i} is odd')"
   ]
  },
  {
   "cell_type": "markdown",
   "id": "34a7a51c-a19f-43ca-a07e-629a6d2ba5e5",
   "metadata": {},
   "source": [
    "<div class=\"alert alert-block alert-info\"><b>Tip: </b> Try pressing <kbd>Ctrl</kbd> + <kbd>/</kbd> to comment multiple lines of code. \n",
    "</div> "
   ]
  },
  {
   "cell_type": "markdown",
   "id": "4884c9ce-5e7f-4d7a-9661-f9afb3677701",
   "metadata": {},
   "source": [
    "#### Exercise 1:\n",
    "\n",
    "1. Create a variable called `name`\n",
    "2. Assign your name to the variable called `name`\n",
    "3. Print the `name` variable.\n",
    "4. Document each line of the code by commenting `#`.\n",
    "\n",
    "</br>\n",
    "\n",
    "#### Exercise 2:\n",
    "1. Create two variables called `num1` and `num2`, instantiate an integer to be assigned for each variable.\n",
    "2. Create another variable called `total`, assign it with the total of `num1` and `num2`.\n",
    "3. Print the `total` variable.\n",
    "4. Document each line of the code by commenting.\n",
    "\n",
    "</br>\n",
    "\n",
    "#### Exercise 3:\n",
    "1. Execute this.\n",
    "```python\n",
    "if num1 > num2:\n",
    "    print(\"num1 is greater than num2\")\n",
    "elif num2 > num1:\n",
    "    print(\"num2 is greater than num1\")\n",
    "else:\n",
    "    print(\"num1 and num2 are equal\")\n",
    "```\n",
    "\n",
    "2. Document each line of the provided code by commenting."
   ]
  },
  {
   "cell_type": "markdown",
   "id": "c1b0f2fe-740e-4645-849c-b0b66dda724d",
   "metadata": {},
   "source": [
    "### No PC or Laptop?\n",
    "\n",
    "Python have frameworks that works for both IoS and android:\n",
    "- Pydroid installation tutorial: https://www.youtube.com/watch?v=ALelx_X1lsc&t=232s\n",
    "- Python3IDE installation tutorial: https://www.youtube.com/watch?v=RF6I0Jibef8\n",
    "- Online python interpreter and notebook environemnts.\n",
    "    - <a href=\"https://www.programiz.com/python-programming/online-compiler/\">Programiz</a>\n",
    "    - <a href=\"https://colab.google/\">Google Colab</a>\n",
    "    - <a href=\"https://www.kaggle.com/\">Kaggle</a>"
   ]
  },
  {
   "cell_type": "code",
   "execution_count": null,
   "id": "575281fa-0ca1-448f-bd0e-6f87654cbd66",
   "metadata": {},
   "outputs": [],
   "source": []
  }
 ],
 "metadata": {
  "kernelspec": {
   "display_name": "Python 3 (ipykernel)",
   "language": "python",
   "name": "python3"
  },
  "language_info": {
   "codemirror_mode": {
    "name": "ipython",
    "version": 3
   },
   "file_extension": ".py",
   "mimetype": "text/x-python",
   "name": "python",
   "nbconvert_exporter": "python",
   "pygments_lexer": "ipython3",
   "version": "3.9.4"
  },
  "papermill": {
   "default_parameters": {},
   "duration": 4.471455,
   "end_time": "2023-10-08T00:59:11.297580",
   "environment_variables": {},
   "exception": null,
   "input_path": "__notebook__.ipynb",
   "output_path": "__notebook__.ipynb",
   "parameters": {},
   "start_time": "2023-10-08T00:59:06.826125",
   "version": "2.4.0"
  }
 },
 "nbformat": 4,
 "nbformat_minor": 5
}
