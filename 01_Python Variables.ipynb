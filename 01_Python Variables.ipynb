{
 "cells": [
  {
   "cell_type": "markdown",
   "id": "53696e31-96b0-478f-9ccf-920e3c211f25",
   "metadata": {},
   "source": [
    "<a href=\"https://www.python.org/\"><img src=\"https://github.com/JhunBrian/ICT-111/blob/main/figures/py_logo.png?raw=true\" width=90 style=\"float: left\"></a>\n",
    "\n",
    "# Python Variables\n",
    "\n",
    "</br></br></br>\n",
    "Instructor: Jhun Brian M. Andam \\\n",
    "Institution: University of Science and Technology of Southern Philippines\n",
    "\n",
    "- https://www.w3schools.com/python/default.asp\n",
    "- https://classroom.google.com/c/NTI5MjU4NTY4NTIy/p/NTI5MjU5NDY1MTUz/details"
   ]
  },
  {
   "cell_type": "markdown",
   "id": "05a1264b-3f9c-41db-9e81-68090d601262",
   "metadata": {},
   "source": [
    "### Recall\n",
    "\n",
    "In Python, a variable is a symbolic name that represents or refers to a value stored in the computer's memory. It is a fundamental concept in programming and is used to store and manipulate data within a program. In Python, variables are created when you assign a value to it.\n",
    "\n",
    "```python\n",
    "name = 'Brian'\n",
    "```\n",
    "\n",
    "`name` is the variable and `Brian` is the assigned value of that variable."
   ]
  },
  {
   "cell_type": "markdown",
   "id": "33f17813-317c-4fbf-9893-cdcf63797223",
   "metadata": {},
   "source": [
    "<div class=\"alert alert-block alert-info\"><b>Remember: </b> variables are just the containers for a value. </br>\n",
    "\n",
    "* *variable = value*\n",
    "* *a variable is anything that is assigned by a value using the `=` operator.*\n",
    "\n",
    "</div>"
   ]
  },
  {
   "cell_type": "code",
   "execution_count": 37,
   "id": "c11442b1-9b0d-4c8f-bd50-9eda2df0ff03",
   "metadata": {},
   "outputs": [
    {
     "name": "stdout",
     "output_type": "stream",
     "text": [
      "22\n",
      "<class 'int'>\n"
     ]
    }
   ],
   "source": [
    "# my name enclosed with single quote marks\n",
    "x = 'Brian'\n",
    "\n",
    "# another variable x is assigned with a different value\n",
    "x = 22\n",
    "\n",
    "# print the value of x\n",
    "print(x)\n",
    "\n",
    "# print the datatype of x\n",
    "print(type(x))"
   ]
  },
  {
   "cell_type": "markdown",
   "id": "388e09b4-94f8-4389-ae7b-1fad61f2b7bb",
   "metadata": {},
   "source": [
    "<div class=\"alert alert-block alert-success\"><b>To-do: </b>Make an observation.</div>"
   ]
  },
  {
   "cell_type": "markdown",
   "id": "b46f1dcc-f2aa-4948-8ecf-6ba7fcb78f3e",
   "metadata": {},
   "source": [
    "### Case-Sensitive\n",
    "\n",
    "Variable names are case-sensitive.\r\n"
   ]
  },
  {
   "cell_type": "code",
   "execution_count": 38,
   "id": "20e694e0-5ad8-411f-bafe-16b04aa0bedb",
   "metadata": {},
   "outputs": [
    {
     "name": "stdout",
     "output_type": "stream",
     "text": [
      "Brian\n",
      "brian\n"
     ]
    }
   ],
   "source": [
    "name = 'Brian'\n",
    "Name = 'brian'\n",
    "\n",
    "print(name)\n",
    "print(Name)"
   ]
  },
  {
   "cell_type": "markdown",
   "id": "cdd9e881-3fb1-44af-b082-e6fbcaee0f23",
   "metadata": {},
   "source": [
    "<div class=\"alert alert-block alert-success\"><b>To-do: </b>Make an observation.</div>"
   ]
  },
  {
   "cell_type": "markdown",
   "id": "f4930632-cb13-47f9-ba14-150be953dfae",
   "metadata": {},
   "source": [
    "### Variable names (must consider)"
   ]
  },
  {
   "cell_type": "markdown",
   "id": "bcdf8a7c-24d3-4fe4-ba98-72b412024c05",
   "metadata": {},
   "source": [
    "- A variable can have a short name (like `x` and `y`) or a more descriptive name (`age`, `carname`, `total_volume`). Rules for Python variables:\n",
    "    - A variable name must start with a letter or the underscore character\n",
    "    - A variable name cannot start with a number\n",
    "    - A variable name can only contain alpha-numeric characters and underscores (A-z, 0-9, and _ )\n",
    "    - Variable names are case-sensitive (age, Age and AGE are three different variables)\n",
    "    - A variable name cannot be any of the <a href=\"https://realpython.com/python-keywords/\">Python keywords.</a>"
   ]
  },
  {
   "cell_type": "markdown",
   "id": "3d381dcd-8dc0-4ed9-94a6-658731103f57",
   "metadata": {},
   "source": [
    "### Variable name conventions\n",
    "\n",
    "<table>\n",
    "    <thead>\n",
    "        <tr>\n",
    "            <td>Case</td>\n",
    "            <td>Example</td>\n",
    "            <td>Use-case</td>\n",
    "        </tr>\n",
    "    </thead>\n",
    "    <tr>\n",
    "        <td>Camel Case</td>\n",
    "        <td>myVariableName</td>\n",
    "        <td>Usually used for functions, objects variables, properties, attributes, etc.</td>\n",
    "    </tr>\n",
    "    <tr>\n",
    "        <td>Pascal Case</td>\n",
    "        <td>MyVariableName</td>\n",
    "        <td>Commonly used for classes.</td>\n",
    "    </tr>\n",
    "    <tr>\n",
    "        <td>Snake Case</td>\n",
    "        <td>my_variable_name</td>\n",
    "        <td>Usually used for functions, objects variables, properties, attributes, files, etc.</td>\n",
    "    </tr>\n",
    "</table>\n",
    "\n",
    "Variable name conventions in Python, while crucial for formality and readability, are not strictly enforced by the language itself. Python code will indeed work without adhering to naming conventions, as long as the fundamental criteria for variable creation are met, such as not starting with a number and avoiding symbols other than underscores. However, it's important to note that companies or organizations may have their own coding standards and conventions, which they might require developers to follow. Adhering to these conventions not only promotes consistency and collaboration but also enhances code maintainability, making it easier for developers to understand and work with the codebase."
   ]
  },
  {
   "cell_type": "markdown",
   "id": "5562f5e7-07b4-4ee9-86d3-7cb067457e7f",
   "metadata": {},
   "source": [
    "### Many values to multiple variables\n",
    "\n",
    "Python allows you to assign values to multiple variables in one line:\r\n"
   ]
  },
  {
   "cell_type": "code",
   "execution_count": 39,
   "id": "717b2b29-8761-4158-acc4-c97e6a194651",
   "metadata": {},
   "outputs": [
    {
     "name": "stdout",
     "output_type": "stream",
     "text": [
      "Brian\n",
      "22\n"
     ]
    }
   ],
   "source": [
    "name, age = 'Brian', '22'\n",
    "\n",
    "print(name)\n",
    "print(age)"
   ]
  },
  {
   "cell_type": "markdown",
   "id": "3a25f225-5ff9-4bd2-9596-b17d46d209bc",
   "metadata": {},
   "source": [
    "<div class=\"alert alert-block alert-info\"><b>Remember: </b>Just make sure that the number of variables matches the number of values, or else you will get an error.</br>\n",
    "\n",
    "</div>"
   ]
  },
  {
   "cell_type": "markdown",
   "id": "50041210-dd5d-428b-b49f-f8a7e8064734",
   "metadata": {},
   "source": [
    "### One value to multiple variables\n",
    "\n",
    "And you can assign the same value to multiple variables in one line:\r\n"
   ]
  },
  {
   "cell_type": "code",
   "execution_count": 40,
   "id": "14cac8e1-02a6-4971-af13-2891e6362350",
   "metadata": {},
   "outputs": [
    {
     "name": "stdout",
     "output_type": "stream",
     "text": [
      "28\n",
      "28\n",
      "28\n"
     ]
    }
   ],
   "source": [
    "john_age = mary_age = ivanovich_age = 28\n",
    "\n",
    "print(john_age)\n",
    "print(mary_age)\n",
    "print(ivanovich_age)"
   ]
  },
  {
   "cell_type": "markdown",
   "id": "a95f2e23-9e76-4385-960e-0db126848b57",
   "metadata": {},
   "source": [
    "### Unpack collection\n",
    "\n",
    "If you have a collection of values in a list, tuple etc. Python allows you to extract the values into variables. This is called unpacking.\r\n"
   ]
  },
  {
   "cell_type": "code",
   "execution_count": 41,
   "id": "c1f473a8-1408-4052-98a9-a635beed5263",
   "metadata": {},
   "outputs": [
    {
     "name": "stdout",
     "output_type": "stream",
     "text": [
      "naka red\n",
      "naka uniform\n",
      "naka blue\n",
      "taason\n"
     ]
    }
   ],
   "source": [
    "students = ['naka red', 'naka uniform', 'naka blue', 'taason']\n",
    "\n",
    "s1, s2, s3, s4 = students\n",
    "\n",
    "print(s1)\n",
    "print(s2)\n",
    "print(s3)\n",
    "print(s4)"
   ]
  },
  {
   "cell_type": "markdown",
   "id": "9167e039-9b43-4a0e-8778-7d49611cbeb5",
   "metadata": {},
   "source": [
    "### Output variables\n",
    "\n",
    "The Python print() function is often used to output variables.\n",
    "\n",
    "In the `print()` function, you output multiple variables, separated by a comma:\r\n",
    "\r\n"
   ]
  },
  {
   "cell_type": "code",
   "execution_count": 42,
   "id": "74442060-1ba6-47f2-b1ae-4b83f3101167",
   "metadata": {},
   "outputs": [
    {
     "name": "stdout",
     "output_type": "stream",
     "text": [
      "naka red naka uniform naka blue\n"
     ]
    }
   ],
   "source": [
    "print(s1, s2, s3)"
   ]
  },
  {
   "cell_type": "markdown",
   "id": "cd6d74f3-14b4-4694-bd8e-1667b2cd0f01",
   "metadata": {},
   "source": [
    "You can also use the `+` operator to output multiple variables:\r\n"
   ]
  },
  {
   "cell_type": "code",
   "execution_count": 43,
   "id": "b7acb3bc-8ea7-4b4c-a617-e756fbaa5798",
   "metadata": {},
   "outputs": [
    {
     "name": "stdout",
     "output_type": "stream",
     "text": [
      "naka rednaka uniformnaka blue\n"
     ]
    }
   ],
   "source": [
    "print(s1 + s2 + s3)"
   ]
  },
  {
   "cell_type": "markdown",
   "id": "1a29c8fd-b1aa-4514-807c-6a363614524f",
   "metadata": {},
   "source": [
    "<div class=\"alert alert-block alert-info\"><b>Observe: </b>Notice that the 3 values were outputted without spaces, because we did not specify a space before each value, we can fix that by adding a space after each value is printed.</br>\n",
    "</div>"
   ]
  },
  {
   "cell_type": "code",
   "execution_count": 44,
   "id": "62880df8-fd4b-4f2c-a6b9-a304ae90d618",
   "metadata": {},
   "outputs": [
    {
     "name": "stdout",
     "output_type": "stream",
     "text": [
      "naka red naka uniform naka blue\n"
     ]
    }
   ],
   "source": [
    "print(s1 + ' ' + s2 + ' ' + s3)"
   ]
  },
  {
   "cell_type": "markdown",
   "id": "b942f550-34e2-473f-995a-af0b383d3a22",
   "metadata": {},
   "source": [
    "For numbers, the `+` character works as a mathematical operator:\r\n"
   ]
  },
  {
   "cell_type": "code",
   "execution_count": 45,
   "id": "c67d93df-61e8-48b9-93dd-d2c8e0e1c7ae",
   "metadata": {},
   "outputs": [
    {
     "name": "stdout",
     "output_type": "stream",
     "text": [
      "9\n"
     ]
    }
   ],
   "source": [
    "num1, num2 = 4, 5\n",
    "print(num1 + num2)"
   ]
  },
  {
   "cell_type": "markdown",
   "id": "e640de17-06eb-464a-b20b-5860844e6912",
   "metadata": {},
   "source": [
    "<div class=\"alert alert-block alert-info\"><b>Tip: </b>The best way to output multiple variables in the print() function is to separate them with commas, which even support different data types.</br>\n",
    "</div>\r\n"
   ]
  },
  {
   "cell_type": "markdown",
   "id": "0525013a-b0ad-4d37-bdf0-76b0f7fa592d",
   "metadata": {},
   "source": [
    "### Global variables\n",
    "\n",
    "Variables that are created outside of a function (as in all of the examples above) are known as global variables.\r\n",
    "\r\n",
    "Global variables can be used by everyone, both inside of functions and outside."
   ]
  },
  {
   "cell_type": "code",
   "execution_count": 46,
   "id": "7efac8d4-b190-450d-a929-db7a4a2acfdd",
   "metadata": {},
   "outputs": [
    {
     "name": "stdout",
     "output_type": "stream",
     "text": [
      "Python is awesome\n"
     ]
    }
   ],
   "source": [
    "# Create a variable outside of a function, and use it inside the function\n",
    "x = \"awesome\"\n",
    "\n",
    "def myfunc():\n",
    "  print(\"Python is \" + x)\n",
    "\n",
    "myfunc()"
   ]
  },
  {
   "cell_type": "markdown",
   "id": "3082a33e-c08a-4d4f-8982-000665c300d8",
   "metadata": {},
   "source": [
    "If you create a variable with the same name inside a function, this variable will be local, and can only be used inside the function. The global variable with the same name will remain as it was, global and with the original value.\r\n"
   ]
  },
  {
   "cell_type": "code",
   "execution_count": 47,
   "id": "8378b445-d192-4234-9d74-541d8db1ef39",
   "metadata": {},
   "outputs": [
    {
     "name": "stdout",
     "output_type": "stream",
     "text": [
      "Python is fantastic\n",
      "Python is awesome\n"
     ]
    }
   ],
   "source": [
    "x = \"awesome\"\n",
    "\n",
    "def myfunc():\n",
    "  x = \"fantastic\"\n",
    "  print(\"Python is \" + x)\n",
    "\n",
    "myfunc()\n",
    "\n",
    "print(\"Python is \" + x)"
   ]
  },
  {
   "cell_type": "markdown",
   "id": "c0741e9a-c9e5-496c-94db-90a8705131a7",
   "metadata": {},
   "source": [
    "### The `global` keyword\n",
    "\n",
    "Normally, when you create a variable inside a function, that variable is local, and can only be used inside that function.\r\n",
    "\r\n",
    "To create a global variable inside a function, you can use the global keyword.\n"
   ]
  },
  {
   "cell_type": "code",
   "execution_count": 48,
   "id": "a16d0a56-113b-4d80-8b82-1a0fa4772f2f",
   "metadata": {},
   "outputs": [
    {
     "name": "stdout",
     "output_type": "stream",
     "text": [
      "Python is fantastic\n"
     ]
    }
   ],
   "source": [
    "def myfunc():\n",
    "  global x\n",
    "  x = \"fantastic\"\n",
    "\n",
    "myfunc()\n",
    "\n",
    "print(\"Python is \" + x)"
   ]
  },
  {
   "cell_type": "markdown",
   "id": "903e935a-9c8f-4a28-9f24-10b87d0a6a33",
   "metadata": {},
   "source": [
    "Also, use the `global` keyword if you want to change a global variable inside a function.\r\n"
   ]
  },
  {
   "cell_type": "code",
   "execution_count": 49,
   "id": "2cc4ae5d-96f4-4ff6-9dcb-4d96bb6a6bdb",
   "metadata": {},
   "outputs": [
    {
     "name": "stdout",
     "output_type": "stream",
     "text": [
      "Python is fantastic\n"
     ]
    }
   ],
   "source": [
    "x = \"awesome\"\n",
    "\n",
    "def myfunc():\n",
    "  global x\n",
    "  x = \"fantastic\"\n",
    "\n",
    "# when the function was called, the x='awaseome' lien above was overwritten by a new variable inside the myfunc() function.\n",
    "myfunc()\n",
    "\n",
    "print(\"Python is \" + x)"
   ]
  },
  {
   "cell_type": "markdown",
   "id": "21050828-24a6-4787-a3fc-9e5eccb21361",
   "metadata": {},
   "source": [
    "### Exercise 1:\n",
    "1. Create a `list` with a variable name `params`.\n",
    "2. On the first index, input the value of $\\pi$ until the 4th digit.\n",
    "3. On the second index, input the value of a radius which is `16`.\n",
    "4. Unpack the values of the list, follow the code below.\n",
    "```python\n",
    "pi, radius = params\n",
    "```\n",
    "5. Create a variable called area, calculate the area of a circle with this formula inside the area variable.\n",
    "##### $$A = \\pi r^2$$\n",
    "\n",
    "7. Print the `area`\n",
    "8. Document each line of code using comments.\n",
    "\n",
    "</br>\n",
    "\n",
    "### Exercise 2:\n",
    "1. Create three variables called `nr_1`, `nr_2`, and `nr_3`. Assign three different grades into these variables.\n",
    "2. Create another three variables called `au_1`, `au_2`, and `au_3`. Consider that each courses (`nr_n`) have the same unit of `3`.\n",
    "4. Make a function called `calc_gpa()` that calculates the GPA of the grades.\n",
    "##### $$GPA = \\frac{\\sum_{i=1}^{3} NR_{course} \\cdot  AU_{course}}{\\sum_{i=1}^{3} AU_{course}}$$\n",
    "\n",
    "Where $GPA$ is the Grade Point Average,  $AU_{course}$ is the Academic Unit of a course, and $NR_{course}$ is the Numerical Unit of a course.\n",
    "\n",
    "5. The function must return the `GPA` output variable.\n",
    "6. Print the value of the output."
   ]
  },
  {
   "cell_type": "code",
   "execution_count": 72,
   "id": "e8a8fab0-3323-4e3f-bcf2-16f681b9492a",
   "metadata": {},
   "outputs": [],
   "source": [
    "nr_1, nr_2, nr_3 = 3, 2.5, 2.75\n",
    "au_1 = au_2 = au_3 = 3\n",
    "\n",
    "def calc_gpa():\n",
    "    weighted_sum = 0\n",
    "    total_units = 0\n",
    "    for nr, au in zip([nr_1, nr_2, nr_3], [au_1, au_2, au_3]):\n",
    "        weighted_sum += nr * au\n",
    "        total_units += au\n",
    "    return weighted_sum / total_units"
   ]
  },
  {
   "cell_type": "code",
   "execution_count": null,
   "id": "a7fafda2-d481-4e34-95d4-151757a0b78d",
   "metadata": {},
   "outputs": [],
   "source": []
  }
 ],
 "metadata": {
  "kernelspec": {
   "display_name": "Python 3 (ipykernel)",
   "language": "python",
   "name": "python3"
  },
  "language_info": {
   "codemirror_mode": {
    "name": "ipython",
    "version": 3
   },
   "file_extension": ".py",
   "mimetype": "text/x-python",
   "name": "python",
   "nbconvert_exporter": "python",
   "pygments_lexer": "ipython3",
   "version": "3.9.4"
  }
 },
 "nbformat": 4,
 "nbformat_minor": 5
}
