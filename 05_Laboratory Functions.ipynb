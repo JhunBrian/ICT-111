{
 "cells": [
  {
   "cell_type": "markdown",
   "id": "02138bb7-af46-44cd-8127-502f4170a792",
   "metadata": {},
   "source": [
    "# Python Function (Continuation)\n",
    "\n",
    "```python\n",
    "def my_func(*args, **kwargs):\n",
    "    pass\n",
    "```\n",
    "\n",
    "**Instructor: Jhun Brian M. Andam** </br>\n",
    "**Course: CS112**"
   ]
  },
  {
   "cell_type": "markdown",
   "id": "7dedbb0c-86cf-46f5-bf1e-d3516e103b5d",
   "metadata": {},
   "source": [
    "### Example 1:\n",
    "- **A function with no return value.**\n",
    "\n",
    "The function `collatz` takes a number as input and applies the Collatz conjecture, repeatedly dividing the number by 2 if it's even, or multiplying it by 3 and adding 1 if it's odd, until the number becomes 1. The function prints each intermediate result during this process.\n",
    "\n",
    "\\begin{equation*}\n",
    "f(x) = \\begin{cases}\n",
    "  \\frac{n}{2} && \\text{if } n \\equiv 0 (\\text{mod }, 2),\\\\\n",
    "  3n + 1 && \\text{if } n \\equiv 1 (\\text{mod }, 2).\n",
    "\\end{cases}\n",
    "\\end{equation*}"
   ]
  },
  {
   "cell_type": "code",
   "execution_count": 44,
   "id": "13bf8e48-b72f-44a8-a0b4-4e85c239cce0",
   "metadata": {},
   "outputs": [
    {
     "name": "stdout",
     "output_type": "stream",
     "text": [
      "5\n",
      "16\n",
      "8\n",
      "4\n",
      "2\n",
      "1\n"
     ]
    }
   ],
   "source": [
    "def collatz(num):\n",
    "    while num != 1:\n",
    "        if num % 2 == 0:\n",
    "            num = num // 2\n",
    "        else:\n",
    "            num = (3 * num) + 1\n",
    "        print(num)\n",
    "\n",
    "collatz(10)"
   ]
  },
  {
   "cell_type": "markdown",
   "id": "d3362697-ef26-4459-bec6-e68c7ffa49d8",
   "metadata": {},
   "source": [
    "### Example 2: \n",
    "- **A function with a return value.**\n",
    "\n",
    "\n",
    "The function circle calculates the area of a circle based on its radius (r) using the formula: \n",
    "\\begin{equation}\n",
    "A = \\pi r^2\n",
    "\\end{equation}\n",
    "It utilizes the constant $\\pi$ from the math module and returns the computed area."
   ]
  },
  {
   "cell_type": "code",
   "execution_count": 47,
   "id": "977c9385-023d-4800-be5a-8f0530f6c8f5",
   "metadata": {},
   "outputs": [],
   "source": [
    "import math\n",
    "def circle(r):\n",
    "    return math.pi * (r ** 2)"
   ]
  },
  {
   "cell_type": "code",
   "execution_count": 48,
   "id": "e6194afa-44cd-4f19-9cb1-d0243c875eec",
   "metadata": {},
   "outputs": [],
   "source": [
    "area_circle = circle(10)"
   ]
  },
  {
   "cell_type": "code",
   "execution_count": 49,
   "id": "be99d47c-0b10-4781-9259-a9955099bc32",
   "metadata": {},
   "outputs": [
    {
     "name": "stdout",
     "output_type": "stream",
     "text": [
      "314.1592653589793\n"
     ]
    }
   ],
   "source": [
    "print(area_circle)"
   ]
  },
  {
   "cell_type": "markdown",
   "id": "d8f98bd2-cfe3-48cf-8b29-717392e24be7",
   "metadata": {},
   "source": [
    "<div class=\"alert alert-block alert-info\"><b>Question: </b>What if I wanted to make the <code>collatz</code> function to have a return value?</div> "
   ]
  },
  {
   "cell_type": "markdown",
   "id": "663cac38-1ff4-4739-9284-6449d578c771",
   "metadata": {},
   "source": [
    "### Example 3:\n",
    "- **Keyword Arguments vs. Positional Arguments**"
   ]
  },
  {
   "cell_type": "code",
   "execution_count": 50,
   "id": "79b82ae5-e651-45da-a81a-ab9f1b2adad0",
   "metadata": {},
   "outputs": [],
   "source": [
    "def login(usern, passw):\n",
    "    creds = {'usern':'brian', \n",
    "             'passw':123}\n",
    "    if creds['usern'] == usern and creds['passw'] == passw:\n",
    "        print('Access Granted!')\n",
    "    else:\n",
    "        print('Access Denied!')"
   ]
  },
  {
   "cell_type": "markdown",
   "id": "59f47d84-4089-49af-a91b-62babae72920",
   "metadata": {},
   "source": [
    "**Calling function with `Keyword Arguments`**"
   ]
  },
  {
   "cell_type": "code",
   "execution_count": 55,
   "id": "9db9506b-6ec1-413a-ad18-988eea9f33cb",
   "metadata": {},
   "outputs": [
    {
     "name": "stdout",
     "output_type": "stream",
     "text": [
      "Access Granted!\n",
      "Access Granted!\n"
     ]
    }
   ],
   "source": [
    "# with keyword arguments, you are explicitly stating what is the value for that argument\n",
    "login(usern='brian', passw=123)\n",
    "\n",
    "# you can interchange the arguments as long as it is called with its corresponding keywords\n",
    "login(passw=123, usern='brian')"
   ]
  },
  {
   "cell_type": "markdown",
   "id": "1f0958fd-df08-4129-a368-8a5c91697624",
   "metadata": {},
   "source": [
    "**Calling function with `PositionArguments`**"
   ]
  },
  {
   "cell_type": "code",
   "execution_count": 59,
   "id": "56647f48-641b-4f18-926a-247ca31a6c77",
   "metadata": {},
   "outputs": [
    {
     "name": "stdout",
     "output_type": "stream",
     "text": [
      "Access Granted!\n",
      "Access Denied!\n"
     ]
    }
   ],
   "source": [
    "# in this line of code, we called the function with the arguments on its correct position as defined.\n",
    "# the interpreter will recognize that the values stated in that position is assigned to the argument variable\n",
    "# as defined.\n",
    "login('brian', 123)\n",
    "\n",
    "# Here, we interchanged the values, thus, the interpreter also considered that the:\n",
    "# 123 is the username and\n",
    "# 'brian' as the password\n",
    "login(123, 'brian')"
   ]
  },
  {
   "cell_type": "markdown",
   "id": "d0b1dd21-8f56-4713-bdb5-a255bd82052c",
   "metadata": {},
   "source": [
    "### Example 4:\n",
    "- **`lambda` function**\n",
    "\n",
    "The lambda function `gpa_calc` calculates a weighted average GPA (Grade Point Average) based on midterm (mid) and final exam (fin) scores. It allows for an optional fairness adjustment (fair), with default set to `True`. If fair, it uses an equal weight for midterm and final scores; otherwise, it uses a different weight distribution. The function returns the computed GPA.\n",
    "\n",
    "<div class=\"alert alert-block alert-warning\"><b>Remember: </b><code>lambda</code> function always returns a value.</div>"
   ]
  },
  {
   "cell_type": "code",
   "execution_count": 76,
   "id": "ee13eac0-ec5b-4e02-b8c2-d5e2efcebce3",
   "metadata": {},
   "outputs": [],
   "source": [
    "gpa_calc = lambda mid, fin, fair=True: (mid * 0.5) + (fin * 0.5) if fair else (mid * 0.33) + (fin * 0.67)"
   ]
  },
  {
   "cell_type": "code",
   "execution_count": 78,
   "id": "4eca0d83-a022-4951-bd18-8c04422d231a",
   "metadata": {},
   "outputs": [],
   "source": [
    "gpa = gpa_calc(mid=2.5, fin=1.75, fair=True)"
   ]
  },
  {
   "cell_type": "code",
   "execution_count": 80,
   "id": "f0f6ec1e-aa44-4d72-9a8f-58f5db4976ab",
   "metadata": {},
   "outputs": [
    {
     "name": "stdout",
     "output_type": "stream",
     "text": [
      "2.125\n"
     ]
    }
   ],
   "source": [
    "print(gpa)"
   ]
  },
  {
   "cell_type": "markdown",
   "id": "133ba692-1b41-49c3-88f5-b83198a41fb8",
   "metadata": {},
   "source": [
    "### Exercises:\n",
    "1. **Basic Function:**\n",
    "    - Create a function that takes two parameters, performs arithmetic operation, and returns the result.\n",
    " \n",
    "2. **String Manipulation:**\n",
    "    - Write a function that takes a string as input and returns the same string reversed.\n",
    " \n",
    "3. **List Processing:**\n",
    "    - Create a function that accepts a list of numbers and returns the sum of all even numbers in the list.\n",
    " \n",
    "4. **Conditional Logic:**\n",
    "    - Write a function that takes an integer as input and returns \"Even\" if it's even and \"Odd\" if it's odd.\n",
    " \n",
    "5. **Default Parameters:**\n",
    "    - Design a function that takes two parameters, where the second parameter is optional and has a default value. The function should perform a specific operation on the parameters."
   ]
  },
  {
   "cell_type": "code",
   "execution_count": null,
   "id": "584ada6f-2639-415f-b5a0-b1356e6105ba",
   "metadata": {},
   "outputs": [],
   "source": []
  }
 ],
 "metadata": {
  "kernelspec": {
   "display_name": "Python 3 (ipykernel)",
   "language": "python",
   "name": "python3"
  },
  "language_info": {
   "codemirror_mode": {
    "name": "ipython",
    "version": 3
   },
   "file_extension": ".py",
   "mimetype": "text/x-python",
   "name": "python",
   "nbconvert_exporter": "python",
   "pygments_lexer": "ipython3",
   "version": "3.8.5"
  }
 },
 "nbformat": 4,
 "nbformat_minor": 5
}
