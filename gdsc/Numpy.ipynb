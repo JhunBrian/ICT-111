{
 "cells": [
  {
   "cell_type": "markdown",
   "id": "36521f2b-6db6-44fc-bee9-3737aa9d909c",
   "metadata": {},
   "source": [
    "# Pandas x Numpy\n",
    "\n",
    "**Jhun Brian M. Andam | Data Science Faculty**\n",
    "\n",
    "Before delving into NumPy and pandas in Python, it is essential to have a solid understanding of basic Python programming concepts, including `data types`, `variables`, `loops`, and `functions`. Familiarity with fundamental `mathematical` and `statistical` principles is beneficial, as both NumPy and pandas are widely used for numerical and data manipulation tasks. Additionally, a grasp of basic `data structures` like `lists` and `dictionaries` in Python is crucial. Prior exposure to concepts such as `arrays` and `matrices` is particularly helpful for NumPy, which excels in numerical operations on large datasets. For pandas, a foundational knowledge of `dataframes`, akin to `tables` in a relational database, is essential.\n",
    "\r\n",
    "\n",
    "- https://www.w3schools.com/python/numpy/numpy_intro.asp\r",
    "- https://numpy.org/\n",
    "\n",
    "<center><a href=\"https://numpy.org/\"><img src=\"numpy.png\" width=\"200\"></a></center>\n",
    "\r\n"
   ]
  },
  {
   "cell_type": "markdown",
   "id": "6895f762-32ec-4c29-8dad-d64a75d31d1f",
   "metadata": {},
   "source": [
    "<div class=\"alert alert-block alert-warning\">\n",
    "    <p><b>Review:</b></p>\n",
    "    1. What are the basic data types? </br>\n",
    "    2. What is a loop? </br>\n",
    "    2. What are the basic data structures?\n",
    "</div>"
   ]
  },
  {
   "cell_type": "markdown",
   "id": "0cc3d9cb-d5d2-456f-b0a8-439fbe3d80cf",
   "metadata": {},
   "source": [
    "**Basic Data Types**\n",
    "\n",
    "- int\n",
    "- float\n",
    "- str\n",
    "- bool\n",
    "\n",
    "**Loops**\n",
    "\n",
    "```python\n",
    "for i in range(0,10):\n",
    "    print(i)\n",
    "\n",
    "c = 0\n",
    "while c != 10:\n",
    "    print(c)\n",
    "    c += 1\n",
    "```\n",
    "\n",
    "**Basic Data Structures**\n",
    "\n",
    "```python\n",
    "l = []\n",
    "t = ()\n",
    "s = {}\n",
    "d = {\"k\",\"v\"}\n",
    "```"
   ]
  },
  {
   "cell_type": "markdown",
   "id": "c523f35e-2b14-4e29-911d-f934b50908c8",
   "metadata": {
    "jp-MarkdownHeadingCollapsed": true
   },
   "source": [
    "### Numpy\n",
    "\n",
    "> NumPy is a Python library used for working with arrays.\n",
    "> \n",
    "> It also has functions for working in domain of linear algebra, fourier transform, and matrices.\n",
    "> \n",
    "> NumPy was created in 2005 by Travis Oliphant. It is an open source project and you can use it freely.\n",
    "> \n",
    "> NumPy stands for Numerical Python."
   ]
  },
  {
   "cell_type": "markdown",
   "id": "a849bd14-19ab-4b2b-95c0-8940bcd6923f",
   "metadata": {},
   "source": [
    "### Why Use Numpy?\n",
    "\n",
    "> In Python we have lists that serve the purpose of arrays, but they are slow to process.\n",
    ">\n",
    "> NumPy aims to provide an array object that is up to `50x` faster than traditional Python lists.\n",
    ">\n",
    "> The array object in NumPy is called `ndarray`, it provides a lot of supporting functions that make working with `ndarray` very easy.\n",
    ">\n",
    "> Arrays are very frequently used in data science, where speed and resources are very important."
   ]
  },
  {
   "cell_type": "markdown",
   "id": "359a966d-63e1-4b54-b46f-adedd10d3fa4",
   "metadata": {},
   "source": [
    "### Why is NumPy Faster Than Lists?\n",
    "\n",
    ">NumPy arrays are stored at one continuous place in memory unlike lists, so processes can access and manipulate them very efficiently.\n",
    ">\n",
    ">This behavior is called locality of reference in computer science.\n",
    ">\n",
    ">This is the main reason why NumPy is faster than lists. Also it is optimized to work with latest CPU architectures. "
   ]
  },
  {
   "cell_type": "markdown",
   "id": "0ed89b00-28bd-40bd-b15b-439044a1d651",
   "metadata": {},
   "source": [
    "### Getting Started with Numpy\n",
    "\n",
    ">Install it using this command:\n",
    ">\n",
    "> `pip install numpy` or `!pip install numpy`\n",
    ">\n",
    ">Once NumPy is installed, import it in your applications by adding the import keyword:\n",
    ">\n",
    ">`import numpy as np`\n",
    ">\n",
    ">Numpy is usually imported with the `np` alias."
   ]
  },
  {
   "cell_type": "code",
   "execution_count": 3,
   "id": "60e59c77-2a73-409b-87e8-ce4e887e9dc7",
   "metadata": {},
   "outputs": [],
   "source": [
    "import numpy as np"
   ]
  },
  {
   "cell_type": "code",
   "execution_count": 10,
   "id": "fe04d744-0f3c-4a38-8eaf-ff7d06814690",
   "metadata": {},
   "outputs": [],
   "source": [
    "lista = [1,2,3,4,5,6]\n",
    "array = np.array([1,2,3,4,5,6])"
   ]
  },
  {
   "cell_type": "markdown",
   "id": "652fd49d-18c3-48ea-ac4c-cf183de5cd2a",
   "metadata": {},
   "source": [
    "<table>\n",
    "    <thead>\n",
    "        <tr>\n",
    "            <td><b>List</b></td>\n",
    "            <td><b>Array</b></td>\n",
    "        </tr>\n",
    "    </thead>\n",
    "    <tr>\n",
    "        <td>Included in Python's standard library.</td>\n",
    "        <td>Requires importing the NumPy library.</td>\n",
    "    </tr>\n",
    "    <tr>\n",
    "        <td>Can contain elements of different types.</td>\n",
    "        <td>Typically contains elements of the same data type, promoting homogeneity.</td>\n",
    "    </tr>\n",
    "    <tr>\n",
    "        <td>Less efficient for large datasets and numerical operations.</td>\n",
    "        <td>More efficient for numerical computations and large datasets due to optimized operations.</td>\n",
    "    </tr>\n",
    "    <tr>\n",
    "        <td>General-purpose; suitable for various tasks.</td>\n",
    "        <td>Specialized for numerical operations; provides advanced functionalities like broadcasting and vectorized operations.\n",
    "</td>\n",
    "    </tr>\n",
    "</table>"
   ]
  },
  {
   "cell_type": "markdown",
   "id": "fc58388b-f42b-4dce-84ca-7c6b413971bc",
   "metadata": {},
   "source": [
    "### Creating Numpy Arrays\n",
    "\n",
    ">NumPy is used to work with arrays. The array object in NumPy is called ndarray.\n",
    ">\n",
    ">We can create a NumPy ndarray object by using the array() function."
   ]
  },
  {
   "cell_type": "code",
   "execution_count": 11,
   "id": "db090bad-d966-46a5-af88-2c41eb7a5ad8",
   "metadata": {},
   "outputs": [
    {
     "data": {
      "text/plain": [
       "array([1, 2, 3, 4])"
      ]
     },
     "execution_count": 11,
     "metadata": {},
     "output_type": "execute_result"
    }
   ],
   "source": [
    "np.array([1,2,3,4])"
   ]
  },
  {
   "cell_type": "code",
   "execution_count": 12,
   "id": "1960d406-28f4-402b-9bb4-6ca40fab68d3",
   "metadata": {},
   "outputs": [
    {
     "name": "stdout",
     "output_type": "stream",
     "text": [
      "[1 2 3 4 5 6]\n",
      "<class 'numpy.ndarray'>\n"
     ]
    }
   ],
   "source": [
    "arr = np.array([1,2,3,4,5,6])\n",
    "\n",
    "print(arr)\n",
    "print(type(arr))"
   ]
  },
  {
   "cell_type": "markdown",
   "id": "86b204f3-f542-4ca3-b9da-affacfabadcf",
   "metadata": {},
   "source": [
    "To create an ndarray, we can pass a `list`, `tuple` or any array-like object into the `array()` method, and it will be converted into an ndarray:\r\n"
   ]
  },
  {
   "cell_type": "code",
   "execution_count": 13,
   "id": "18c224fe-6f82-4d11-965b-953d0641740a",
   "metadata": {},
   "outputs": [
    {
     "data": {
      "text/plain": [
       "array([1, 2, 3, 4, 5, 6])"
      ]
     },
     "execution_count": 13,
     "metadata": {},
     "output_type": "execute_result"
    }
   ],
   "source": [
    "l = [1,2,3,4,5,6]\n",
    "\n",
    "np.array(l)"
   ]
  },
  {
   "cell_type": "code",
   "execution_count": 5,
   "id": "971fe6f7-84fd-47ee-a1ca-01b71f37116d",
   "metadata": {},
   "outputs": [
    {
     "data": {
      "text/plain": [
       "array([1, 2, 3, 4, 5, 6])"
      ]
     },
     "execution_count": 5,
     "metadata": {},
     "output_type": "execute_result"
    }
   ],
   "source": [
    "t = (1,2,3,4,5,6)\n",
    "\n",
    "np.array(t)"
   ]
  },
  {
   "cell_type": "markdown",
   "id": "73b24085-5d74-4148-9da1-10f3d3a28f49",
   "metadata": {},
   "source": [
    "### Dimensions\n",
    "\n",
    "> A dimension in arrays is one level of array depth (nested arrays).\n",
    "\n",
    "* **0D or Scalar**\n",
    "\n",
    "```python\n",
    "scalar = np.array(42)\n",
    "```\n",
    "\n",
    "* **1D or Vector**\n",
    "\n",
    "```python\n",
    "vector = np.array([1,2,3,4,5,6])\n",
    "```\n",
    "\n",
    "* **2D or Matrix**\n",
    "\n",
    "```python\n",
    "matrix = np.array([\n",
    "    [1,2,3], \n",
    "    [4,5,6], \n",
    "    [7,8,9]]\n",
    ")\n",
    "```\n",
    "\n",
    "* **3D**\n",
    "\n",
    "```python\n",
    "tensor = np.array([\n",
    "    [[1,2,3], \n",
    "    [4,5,6], \n",
    "    [7,8,9]],\n",
    "\n",
    "    [[1,2,3], \n",
    "    [4,5,6], \n",
    "    [7,8,9]]\n",
    "])\n",
    "```"
   ]
  },
  {
   "cell_type": "code",
   "execution_count": 15,
   "id": "75da14d8-0b56-4aeb-b31a-79c87d6c9941",
   "metadata": {},
   "outputs": [],
   "source": [
    "scalar = np.array(42)\n",
    "vector = np.array([1,2,3,4,5,6])\n",
    "matrix = np.array([\n",
    "    [1,2,3], \n",
    "    [4,5,6], \n",
    "    [7,8,9]\n",
    "])\n",
    "tensor3 = np.array([\n",
    "    [[1,2,3], \n",
    "    [4,5,6], \n",
    "    [7,8,9]],\n",
    "\n",
    "    [[1,2,3], \n",
    "    [4,5,6], \n",
    "    [7,8,9]]\n",
    "])"
   ]
  },
  {
   "cell_type": "markdown",
   "id": "cffa25c1-87f5-4e54-af90-4700e7b71a60",
   "metadata": {},
   "source": [
    "You can check the dimension of a `numpy` object using the `.ndim` attribute."
   ]
  },
  {
   "cell_type": "code",
   "execution_count": 7,
   "id": "fa07a832-1a12-42c3-b707-1a677e37c79e",
   "metadata": {},
   "outputs": [
    {
     "name": "stdout",
     "output_type": "stream",
     "text": [
      "0\n",
      "1\n",
      "2\n",
      "3\n"
     ]
    }
   ],
   "source": [
    "print(scalar.ndim)\n",
    "print(vector.ndim)\n",
    "print(matrix.ndim)\n",
    "print(tensor3.ndim)"
   ]
  },
  {
   "cell_type": "markdown",
   "id": "1d542946-4c29-4e4e-9b2e-ff96dd78452a",
   "metadata": {},
   "source": [
    "You can define the number of dimension an array could have by specifying the value for `ndmin` upon defining the `numpy` array"
   ]
  },
  {
   "cell_type": "code",
   "execution_count": 16,
   "id": "283c3a95-523b-4483-952b-159d9619bfc4",
   "metadata": {},
   "outputs": [
    {
     "data": {
      "text/plain": [
       "array([[[[[[21]]]]]])"
      ]
     },
     "execution_count": 16,
     "metadata": {},
     "output_type": "execute_result"
    }
   ],
   "source": [
    "# shift + tab\n",
    "a = np.array(21, ndmin=6)\n",
    "a"
   ]
  },
  {
   "cell_type": "markdown",
   "id": "a6a3d9fb-a3ef-4c36-ac6c-cf03c2877bdd",
   "metadata": {},
   "source": [
    "### Indexing\n",
    "\n",
    ">Array indexing is the same as accessing an array element.\n",
    ">\n",
    ">You can access an array element by referring to its index number.\n",
    ">\n",
    ">The indexes in NumPy arrays start with 0, meaning that the first element has index 0, and the second has index 1 etc."
   ]
  },
  {
   "cell_type": "code",
   "execution_count": 24,
   "id": "910b8ff1-1c87-4a1a-9a6c-292752a409de",
   "metadata": {},
   "outputs": [],
   "source": [
    "tensor2 = np.array([\n",
    "    [1,2,3], \n",
    "    [4,5,6],\n",
    "])"
   ]
  },
  {
   "cell_type": "code",
   "execution_count": 25,
   "id": "1556350b-45bf-402f-baa8-9d3480009755",
   "metadata": {},
   "outputs": [
    {
     "data": {
      "text/plain": [
       "2"
      ]
     },
     "execution_count": 25,
     "metadata": {},
     "output_type": "execute_result"
    }
   ],
   "source": [
    "tensor2.ndim"
   ]
  },
  {
   "cell_type": "markdown",
   "id": "91bbb0fb-3c0b-49ae-8868-271e2a3c234a",
   "metadata": {},
   "source": [
    "To access elements from 2-D arrays we can use comma separated integers representing the dimension and the index of the element.\n",
    "Think of 2-D arrays like a table with rows and columns, where the dimension represents the row and the index represents the column."
   ]
  },
  {
   "cell_type": "code",
   "execution_count": 26,
   "id": "ab3f30e9-cd3f-4472-91bc-77751459b71b",
   "metadata": {},
   "outputs": [
    {
     "data": {
      "text/plain": [
       "array([[1, 2, 3],\n",
       "       [4, 5, 6]])"
      ]
     },
     "execution_count": 26,
     "metadata": {},
     "output_type": "execute_result"
    }
   ],
   "source": [
    "tensor2"
   ]
  },
  {
   "cell_type": "code",
   "execution_count": 29,
   "id": "06c8868b-a0d1-48ac-81fd-98ca4425c156",
   "metadata": {},
   "outputs": [
    {
     "data": {
      "text/plain": [
       "5"
      ]
     },
     "execution_count": 29,
     "metadata": {},
     "output_type": "execute_result"
    }
   ],
   "source": [
    "# tensor2[row, column]\n",
    "\n",
    "tensor2[1, 1]"
   ]
  },
  {
   "cell_type": "code",
   "execution_count": 32,
   "id": "38d2b9d6-f9fc-42a5-98db-8d5aa3a0b7a0",
   "metadata": {},
   "outputs": [],
   "source": [
    "tensor3 = np.array([\n",
    "    [[1,2,3],\n",
    "    [4,5,6]],\n",
    "\n",
    "    [[7,8,9], \n",
    "     [10,11,12]]\n",
    "])"
   ]
  },
  {
   "cell_type": "code",
   "execution_count": 34,
   "id": "3364cf63-4f8f-46e3-9e8c-d43c668fcbbd",
   "metadata": {},
   "outputs": [
    {
     "data": {
      "text/plain": [
       "12"
      ]
     },
     "execution_count": 34,
     "metadata": {},
     "output_type": "execute_result"
    }
   ],
   "source": [
    "# tensor3[channel, row, column]\n",
    "tensor3[1, 1, 2]"
   ]
  },
  {
   "cell_type": "code",
   "execution_count": 38,
   "id": "ca6ee6fd-9d59-4643-979c-a73c91e49633",
   "metadata": {},
   "outputs": [],
   "source": [
    "tensor3c = np.array([\n",
    "    [\n",
    "        ['0,0,0', '0,0,1', '0,0,2'],\n",
    "        ['0,1,0', '0,1,1', '0,1,2']\n",
    "    ],\n",
    "    [\n",
    "        ['1,0,0', '1,0,1', '1,0,2'],\n",
    "        ['1,1,0', '1,1,1', '1,1,2']\n",
    "    ]\n",
    "])"
   ]
  },
  {
   "cell_type": "code",
   "execution_count": 39,
   "id": "7ecf21b1-c05a-4af0-8231-bfd6b618a36b",
   "metadata": {},
   "outputs": [
    {
     "data": {
      "text/plain": [
       "'0,1,0'"
      ]
     },
     "execution_count": 39,
     "metadata": {},
     "output_type": "execute_result"
    }
   ],
   "source": [
    "tensor3c[0,1,0]"
   ]
  },
  {
   "cell_type": "markdown",
   "id": "c7deade7-bf51-449f-a4f3-eb09786f6a45",
   "metadata": {},
   "source": [
    "You can also use **Negative Indexing** to access the last value."
   ]
  },
  {
   "cell_type": "code",
   "execution_count": 41,
   "id": "bba423e6-c948-4680-967f-13039f608aa8",
   "metadata": {},
   "outputs": [
    {
     "data": {
      "text/plain": [
       "array([[[ 1,  2,  3],\n",
       "        [ 4,  5,  6]],\n",
       "\n",
       "       [[ 7,  8,  9],\n",
       "        [10, 11, 12]]])"
      ]
     },
     "execution_count": 41,
     "metadata": {},
     "output_type": "execute_result"
    }
   ],
   "source": [
    "tensor3"
   ]
  },
  {
   "cell_type": "code",
   "execution_count": 40,
   "id": "4a948dc3-4c7a-4a3d-86b0-a82ca01e26c2",
   "metadata": {},
   "outputs": [
    {
     "data": {
      "text/plain": [
       "array([[ 7,  8,  9],\n",
       "       [10, 11, 12]])"
      ]
     },
     "execution_count": 40,
     "metadata": {},
     "output_type": "execute_result"
    }
   ],
   "source": [
    "tensor3[-1] # last matrix"
   ]
  },
  {
   "cell_type": "code",
   "execution_count": 42,
   "id": "921c7347-bace-4012-b322-1044ac38f31b",
   "metadata": {},
   "outputs": [
    {
     "data": {
      "text/plain": [
       "array([10, 11, 12])"
      ]
     },
     "execution_count": 42,
     "metadata": {},
     "output_type": "execute_result"
    }
   ],
   "source": [
    "tensor3[-1, -1] # last vector from the last matrix"
   ]
  },
  {
   "cell_type": "code",
   "execution_count": 43,
   "id": "ce11067d-5034-4f0a-b082-f011690b0f64",
   "metadata": {},
   "outputs": [
    {
     "data": {
      "text/plain": [
       "12"
      ]
     },
     "execution_count": 43,
     "metadata": {},
     "output_type": "execute_result"
    }
   ],
   "source": [
    "tensor3[-1, -1, -1] # last scalar from the last vector from the last matrix"
   ]
  },
  {
   "cell_type": "markdown",
   "id": "7bc3cc7d-5649-4942-ab90-1892936ad409",
   "metadata": {},
   "source": [
    "Same with python lists, you can also implement slicing in numpy arrays."
   ]
  },
  {
   "cell_type": "code",
   "execution_count": 21,
   "id": "6a56392d-8bac-424b-b868-c9e9e77d8593",
   "metadata": {},
   "outputs": [
    {
     "data": {
      "text/plain": [
       "array([[[ 1,  2,  3],\n",
       "        [ 4,  5,  6]],\n",
       "\n",
       "       [[ 7,  8,  9],\n",
       "        [10, 11, 12]]])"
      ]
     },
     "execution_count": 21,
     "metadata": {},
     "output_type": "execute_result"
    }
   ],
   "source": [
    "tensor3"
   ]
  },
  {
   "cell_type": "code",
   "execution_count": 22,
   "id": "d40ac2b3-ad3a-47a4-bff6-93b3e467303a",
   "metadata": {},
   "outputs": [
    {
     "data": {
      "text/plain": [
       "array([[4, 5, 6]])"
      ]
     },
     "execution_count": 22,
     "metadata": {},
     "output_type": "execute_result"
    }
   ],
   "source": [
    "# tensor3[channel, start:end, step]\n",
    "tensor3[0, 1:]"
   ]
  },
  {
   "cell_type": "markdown",
   "id": "4f9fac47-027a-435e-b1bc-c7e225c2430d",
   "metadata": {},
   "source": [
    "### Array Shape\n",
    "\n",
    "> The shape of an array is the number of elements in each dimension.\n",
    "> \n",
    "> You can examine the shape of your array using the `shape` attribute.\r\n"
   ]
  },
  {
   "cell_type": "code",
   "execution_count": 44,
   "id": "12a4b9e3-ae78-4a39-83df-2099472d499e",
   "metadata": {},
   "outputs": [],
   "source": [
    "import matplotlib.pyplot as plt"
   ]
  },
  {
   "cell_type": "code",
   "execution_count": 48,
   "id": "5dc37dab-3c0f-48d1-b6fa-5abc2c0ede56",
   "metadata": {},
   "outputs": [
    {
     "data": {
      "text/plain": [
       "(2, 2, 3)"
      ]
     },
     "execution_count": 48,
     "metadata": {},
     "output_type": "execute_result"
    }
   ],
   "source": [
    "# (channels, rows, columns)\n",
    "tensor3.shape"
   ]
  },
  {
   "cell_type": "code",
   "execution_count": 51,
   "id": "6d5dbc06-0c29-4b65-b48e-77f204e4645c",
   "metadata": {},
   "outputs": [
    {
     "data": {
      "text/plain": [
       "array([[[1., 1., 1.],\n",
       "        [1., 1., 1.],\n",
       "        [1., 1., 1.],\n",
       "        ...,\n",
       "        [1., 1., 1.],\n",
       "        [1., 1., 1.],\n",
       "        [1., 1., 1.]],\n",
       "\n",
       "       [[1., 1., 1.],\n",
       "        [1., 1., 1.],\n",
       "        [1., 1., 1.],\n",
       "        ...,\n",
       "        [1., 1., 1.],\n",
       "        [1., 1., 1.],\n",
       "        [1., 1., 1.]],\n",
       "\n",
       "       [[1., 1., 1.],\n",
       "        [1., 1., 1.],\n",
       "        [1., 1., 1.],\n",
       "        ...,\n",
       "        [1., 1., 1.],\n",
       "        [1., 1., 1.],\n",
       "        [1., 1., 1.]],\n",
       "\n",
       "       ...,\n",
       "\n",
       "       [[1., 1., 1.],\n",
       "        [1., 1., 1.],\n",
       "        [1., 1., 1.],\n",
       "        ...,\n",
       "        [1., 1., 1.],\n",
       "        [1., 1., 1.],\n",
       "        [1., 1., 1.]],\n",
       "\n",
       "       [[1., 1., 1.],\n",
       "        [1., 1., 1.],\n",
       "        [1., 1., 1.],\n",
       "        ...,\n",
       "        [1., 1., 1.],\n",
       "        [1., 1., 1.],\n",
       "        [1., 1., 1.]],\n",
       "\n",
       "       [[1., 1., 1.],\n",
       "        [1., 1., 1.],\n",
       "        [1., 1., 1.],\n",
       "        ...,\n",
       "        [1., 1., 1.],\n",
       "        [1., 1., 1.],\n",
       "        [1., 1., 1.]]], dtype=float32)"
      ]
     },
     "execution_count": 51,
     "metadata": {},
     "output_type": "execute_result"
    }
   ],
   "source": [
    "img_arr = plt.imread('gdsc.png')\n",
    "img_arr"
   ]
  },
  {
   "cell_type": "markdown",
   "id": "cb8eecd8-7ffa-4c20-8fcc-39be0be2ba0b",
   "metadata": {},
   "source": [
    "Image arrays read in matplotlib has this order of arrangement.\n",
    "\n",
    "```python\n",
    "array([[[red, green, blue],\n",
    "        [1., 1., 1.],\n",
    "        [1., 1., 1.],\n",
    "        ...,\n",
    "        [1., 1., 1.],\n",
    "        [1., 1., 1.],\n",
    "        [1., 1., 1.]],\n",
    "```\n",
    "\n",
    "<center><img src=\"img.png\" width=\"500\"></center>"
   ]
  },
  {
   "cell_type": "code",
   "execution_count": 52,
   "id": "cb91dcf8-b419-4aad-8318-d9df3b37da7b",
   "metadata": {},
   "outputs": [
    {
     "data": {
      "text/plain": [
       "(540, 960, 3)"
      ]
     },
     "execution_count": 52,
     "metadata": {},
     "output_type": "execute_result"
    }
   ],
   "source": [
    "img_arr.shape\n",
    "\n",
    "# (height, width, channels)"
   ]
  },
  {
   "cell_type": "code",
   "execution_count": 57,
   "id": "c70f27a0-9f2b-4ffc-9099-c33db8ac17c2",
   "metadata": {},
   "outputs": [
    {
     "data": {
      "text/plain": [
       "['T',\n",
       " '__abs__',\n",
       " '__add__',\n",
       " '__and__',\n",
       " '__array__',\n",
       " '__array_finalize__',\n",
       " '__array_function__',\n",
       " '__array_interface__',\n",
       " '__array_prepare__',\n",
       " '__array_priority__',\n",
       " '__array_struct__',\n",
       " '__array_ufunc__',\n",
       " '__array_wrap__',\n",
       " '__bool__',\n",
       " '__class__',\n",
       " '__class_getitem__',\n",
       " '__complex__',\n",
       " '__contains__',\n",
       " '__copy__',\n",
       " '__deepcopy__',\n",
       " '__delattr__',\n",
       " '__delitem__',\n",
       " '__dir__',\n",
       " '__divmod__',\n",
       " '__dlpack__',\n",
       " '__dlpack_device__',\n",
       " '__doc__',\n",
       " '__eq__',\n",
       " '__float__',\n",
       " '__floordiv__',\n",
       " '__format__',\n",
       " '__ge__',\n",
       " '__getattribute__',\n",
       " '__getitem__',\n",
       " '__gt__',\n",
       " '__hash__',\n",
       " '__iadd__',\n",
       " '__iand__',\n",
       " '__ifloordiv__',\n",
       " '__ilshift__',\n",
       " '__imatmul__',\n",
       " '__imod__',\n",
       " '__imul__',\n",
       " '__index__',\n",
       " '__init__',\n",
       " '__init_subclass__',\n",
       " '__int__',\n",
       " '__invert__',\n",
       " '__ior__',\n",
       " '__ipow__',\n",
       " '__irshift__',\n",
       " '__isub__',\n",
       " '__iter__',\n",
       " '__itruediv__',\n",
       " '__ixor__',\n",
       " '__le__',\n",
       " '__len__',\n",
       " '__lshift__',\n",
       " '__lt__',\n",
       " '__matmul__',\n",
       " '__mod__',\n",
       " '__mul__',\n",
       " '__ne__',\n",
       " '__neg__',\n",
       " '__new__',\n",
       " '__or__',\n",
       " '__pos__',\n",
       " '__pow__',\n",
       " '__radd__',\n",
       " '__rand__',\n",
       " '__rdivmod__',\n",
       " '__reduce__',\n",
       " '__reduce_ex__',\n",
       " '__repr__',\n",
       " '__rfloordiv__',\n",
       " '__rlshift__',\n",
       " '__rmatmul__',\n",
       " '__rmod__',\n",
       " '__rmul__',\n",
       " '__ror__',\n",
       " '__rpow__',\n",
       " '__rrshift__',\n",
       " '__rshift__',\n",
       " '__rsub__',\n",
       " '__rtruediv__',\n",
       " '__rxor__',\n",
       " '__setattr__',\n",
       " '__setitem__',\n",
       " '__setstate__',\n",
       " '__sizeof__',\n",
       " '__str__',\n",
       " '__sub__',\n",
       " '__subclasshook__',\n",
       " '__truediv__',\n",
       " '__xor__',\n",
       " 'all',\n",
       " 'any',\n",
       " 'argmax',\n",
       " 'argmin',\n",
       " 'argpartition',\n",
       " 'argsort',\n",
       " 'astype',\n",
       " 'base',\n",
       " 'byteswap',\n",
       " 'choose',\n",
       " 'clip',\n",
       " 'compress',\n",
       " 'conj',\n",
       " 'conjugate',\n",
       " 'copy',\n",
       " 'ctypes',\n",
       " 'cumprod',\n",
       " 'cumsum',\n",
       " 'data',\n",
       " 'diagonal',\n",
       " 'dot',\n",
       " 'dtype',\n",
       " 'dump',\n",
       " 'dumps',\n",
       " 'fill',\n",
       " 'flags',\n",
       " 'flat',\n",
       " 'flatten',\n",
       " 'getfield',\n",
       " 'imag',\n",
       " 'item',\n",
       " 'itemset',\n",
       " 'itemsize',\n",
       " 'max',\n",
       " 'mean',\n",
       " 'min',\n",
       " 'nbytes',\n",
       " 'ndim',\n",
       " 'newbyteorder',\n",
       " 'nonzero',\n",
       " 'partition',\n",
       " 'prod',\n",
       " 'ptp',\n",
       " 'put',\n",
       " 'ravel',\n",
       " 'real',\n",
       " 'repeat',\n",
       " 'reshape',\n",
       " 'resize',\n",
       " 'round',\n",
       " 'searchsorted',\n",
       " 'setfield',\n",
       " 'setflags',\n",
       " 'shape',\n",
       " 'size',\n",
       " 'sort',\n",
       " 'squeeze',\n",
       " 'std',\n",
       " 'strides',\n",
       " 'sum',\n",
       " 'swapaxes',\n",
       " 'take',\n",
       " 'tobytes',\n",
       " 'tofile',\n",
       " 'tolist',\n",
       " 'tostring',\n",
       " 'trace',\n",
       " 'transpose',\n",
       " 'var',\n",
       " 'view']"
      ]
     },
     "execution_count": 57,
     "metadata": {},
     "output_type": "execute_result"
    }
   ],
   "source": [
    "dir(img_arr)"
   ]
  },
  {
   "cell_type": "code",
   "execution_count": 58,
   "id": "ca7f9099-e3b3-472a-88eb-f0c724263cab",
   "metadata": {},
   "outputs": [
    {
     "data": {
      "image/png": "[encoded data removed]",
      "text/plain": [
       "<Figure size 640x480 with 1 Axes>"
      ]
     },
     "metadata": {},
     "output_type": "display_data"
    }
   ],
   "source": [
    "plt.imshow(plt.imread('gdsc.png'))\n",
    "plt.axis('off');"
   ]
  },
  {
   "cell_type": "markdown",
   "id": "8fb025a2-3cd0-47c7-9184-d368e0a885fa",
   "metadata": {},
   "source": [
    "<div class=\"alert alert-block alert-warning\">\n",
    "    <p><b>Try:</b></p>\n",
    "    1. How can we access the <code>red</code> channel from the image?\n",
    "</div>"
   ]
  },
  {
   "cell_type": "code",
   "execution_count": 64,
   "id": "e870ea7f-6f0a-41a6-94cb-49b49c284a2b",
   "metadata": {},
   "outputs": [
    {
     "data": {
      "text/plain": [
       "<matplotlib.image.AxesImage at 0x130d151d730>"
      ]
     },
     "execution_count": 64,
     "metadata": {},
     "output_type": "execute_result"
    },
    {
     "data": {
      "image/png": "[encoded data removed]",
      "text/plain": [
       "<Figure size 640x480 with 1 Axes>"
      ]
     },
     "metadata": {},
     "output_type": "display_data"
    }
   ],
   "source": [
    "plt.imshow(img_arr[:, :, 0])"
   ]
  },
  {
   "cell_type": "markdown",
   "id": "7814e54a-efbe-4a43-a5ca-230f4551ca1c",
   "metadata": {},
   "source": [
    "### Reshape\n",
    "\n",
    "> Reshaping means changing the shape of an array.\n",
    "> \n",
    "> The shape of an array is the number of elements in each dimension.\n",
    "> \n",
    "> By reshaping we can add or remove dimensions or change number of elements in each dimension."
   ]
  },
  {
   "cell_type": "code",
   "execution_count": 65,
   "id": "f558960e-dadb-4348-9482-133c09debd47",
   "metadata": {},
   "outputs": [
    {
     "data": {
      "text/plain": [
       "array([[[ 1,  2,  3],\n",
       "        [ 4,  5,  6]],\n",
       "\n",
       "       [[ 7,  8,  9],\n",
       "        [10, 11, 12]]])"
      ]
     },
     "execution_count": 65,
     "metadata": {},
     "output_type": "execute_result"
    }
   ],
   "source": [
    "tensor3"
   ]
  },
  {
   "cell_type": "markdown",
   "id": "ef8e3c55-b813-4537-abfa-e903dcf6f370",
   "metadata": {},
   "source": [
    "`tensor3` object have 12 original elements, you can reshape this into a 6 x 2 array, this will still equate to the original elements of the `tensor3` object."
   ]
  },
  {
   "cell_type": "code",
   "execution_count": 72,
   "id": "b50707de-ab79-4d36-813e-648f28d9f379",
   "metadata": {},
   "outputs": [
    {
     "data": {
      "text/plain": [
       "array([[ 1,  2,  3],\n",
       "       [ 4,  5,  6],\n",
       "       [ 7,  8,  9],\n",
       "       [10, 11, 12]])"
      ]
     },
     "execution_count": 72,
     "metadata": {},
     "output_type": "execute_result"
    }
   ],
   "source": [
    "tensor3.reshape(4,3)"
   ]
  },
  {
   "cell_type": "markdown",
   "id": "2fc3d59e-8b23-48de-b385-39eb8547126a",
   "metadata": {},
   "source": [
    "<div class=\"alert alert-block alert-warning\">\n",
    "    <b>Try: </b>\n",
    "    How can we make the tensor3 object to have only 1 dimension?\n",
    "</div>"
   ]
  },
  {
   "cell_type": "markdown",
   "id": "1843bf4f-556a-4907-a526-b1918a62557c",
   "metadata": {},
   "source": [
    "### Numpy Random (Pseudo Random)\n",
    "\n",
    "- `np.random.choice`\n",
    "- `np.random.normal`\n",
    "- `np.random.seed`\n",
    "\n",
    "> Computers work on programs, and programs are definitive set of instructions. So it means there must be some algorithm to generate a random number as well.\n",
    "> \n",
    "> If there is a program to generate random number it can be predicted, thus it is not truly random.\n",
    ">\n",
    "> Random numbers generated through a generation algorithm are called pseudo random."
   ]
  },
  {
   "cell_type": "markdown",
   "id": "e637d7bf-2c72-49d9-90f1-ee22305b4dde",
   "metadata": {},
   "source": [
    "**`np.random.choice`**"
   ]
  },
  {
   "cell_type": "code",
   "execution_count": 73,
   "id": "1594359d-5807-4b09-aa6f-917f51acf049",
   "metadata": {},
   "outputs": [
    {
     "data": {
      "image/png": "[encoded data removed]",
      "text/plain": [
       "<Figure size 640x480 with 1 Axes>"
      ]
     },
     "metadata": {},
     "output_type": "display_data"
    }
   ],
   "source": [
    "from seaborn import load_dataset\n",
    "df = load_dataset('iris')\n",
    "\n",
    "plt.hist(df['sepal_width'], bins=20, ec='black')\n",
    "plt.title(\"Sepal Length\");"
   ]
  },
  {
   "cell_type": "markdown",
   "id": "e3568e69-a193-4d18-8609-7b6aee812fb1",
   "metadata": {},
   "source": [
    "We can use the `np.random.choice` to draw random samples from the provided series or sequence of data."
   ]
  },
  {
   "cell_type": "code",
   "execution_count": 75,
   "id": "b30e38a4-0d91-4836-8dc3-ffe11ecfa846",
   "metadata": {},
   "outputs": [
    {
     "data": {
      "text/plain": [
       "0      0.2\n",
       "1      0.2\n",
       "2      0.2\n",
       "3      0.2\n",
       "4      0.2\n",
       "      ... \n",
       "145    2.3\n",
       "146    1.9\n",
       "147    2.0\n",
       "148    2.3\n",
       "149    1.8\n",
       "Name: petal_width, Length: 150, dtype: float64"
      ]
     },
     "execution_count": 75,
     "metadata": {},
     "output_type": "execute_result"
    }
   ],
   "source": [
    "df['petal_width']"
   ]
  },
  {
   "cell_type": "code",
   "execution_count": 45,
   "id": "4d27d46a-b72f-4339-9168-6ec17cac20c2",
   "metadata": {},
   "outputs": [
    {
     "data": {
      "image/png": "[encoded data removed]",
      "text/plain": [
       "<Figure size 640x480 with 1 Axes>"
      ]
     },
     "metadata": {},
     "output_type": "display_data"
    }
   ],
   "source": [
    "plt.hist(np.random.choice(df['sepal_length'], size=100), bins=20);"
   ]
  },
  {
   "cell_type": "markdown",
   "id": "19ea93fd-b524-495f-8fc0-1757addc02f3",
   "metadata": {},
   "source": [
    "**`np.random.normal`**"
   ]
  },
  {
   "cell_type": "code",
   "execution_count": 78,
   "id": "49f369c3-e5ad-4fda-b04f-65ef741675f2",
   "metadata": {},
   "outputs": [],
   "source": [
    "n_dist = np.random.normal(size=2000)"
   ]
  },
  {
   "cell_type": "code",
   "execution_count": 79,
   "id": "279b7daf-4bf6-4732-a6cd-560f3d6289bc",
   "metadata": {},
   "outputs": [
    {
     "data": {
      "image/png": "[encoded data removed]",
      "text/plain": [
       "<Figure size 640x480 with 1 Axes>"
      ]
     },
     "metadata": {},
     "output_type": "display_data"
    }
   ],
   "source": [
    "plt.hist(n_dist, bins=50);"
   ]
  },
  {
   "cell_type": "code",
   "execution_count": 192,
   "id": "53441c78-a79b-45f5-9867-d757bd6e2621",
   "metadata": {},
   "outputs": [
    {
     "data": {
      "image/png": "[encoded data removed]",
      "text/plain": [
       "<Figure size 640x480 with 1 Axes>"
      ]
     },
     "metadata": {},
     "output_type": "display_data"
    }
   ],
   "source": [
    "plt.hist(np.random.choice(n_dist, 100, replace=False));"
   ]
  },
  {
   "cell_type": "markdown",
   "id": "13de96db-b1f1-4323-b06e-0ee454716c91",
   "metadata": {},
   "source": [
    "<div class=\"alert alert-block alert-warning\">\n",
    "    <b>Try: </b>\n",
    "    Generate a random 3 dimensional image using <code>np.random.randint(low=0, high=255, size=(?, ?, ?))</code>\n",
    "</div>"
   ]
  },
  {
   "cell_type": "code",
   "execution_count": 68,
   "id": "6e70401e-7bf0-4da0-ba7c-cf0df2cbe28d",
   "metadata": {},
   "outputs": [
    {
     "data": {
      "text/plain": [
       "<matplotlib.image.AxesImage at 0x2cc273a7430>"
      ]
     },
     "execution_count": 68,
     "metadata": {},
     "output_type": "execute_result"
    },
    {
     "data": {
      "image/png": "[encoded data removed]",
      "text/plain": [
       "<Figure size 640x480 with 1 Axes>"
      ]
     },
     "metadata": {},
     "output_type": "display_data"
    }
   ],
   "source": [
    "np.random.seed(42)\n",
    "plt.imshow(np.random.randint(low=0, high=255, size=(20, 20, 3)))"
   ]
  },
  {
   "cell_type": "code",
   "execution_count": 80,
   "id": "94458cfe-e10d-42b8-87b4-b4a4f5973254",
   "metadata": {},
   "outputs": [
    {
     "data": {
      "text/plain": [
       "array([[[242,   8, 135],\n",
       "        [159,  68,  32],\n",
       "        [144,  80,  64],\n",
       "        ...,\n",
       "        [108,  63, 240],\n",
       "        [ 42,  78, 156],\n",
       "        [ 19,  49,  34]],\n",
       "\n",
       "       [[ 88, 156, 222],\n",
       "        [165, 145,   2],\n",
       "        [104,  40, 184],\n",
       "        ...,\n",
       "        [119, 185,   0],\n",
       "        [205,  16,  96],\n",
       "        [185, 217, 203]],\n",
       "\n",
       "       [[217, 202,  24],\n",
       "        [176, 231, 201],\n",
       "        [190, 160, 246],\n",
       "        ...,\n",
       "        [245,  21, 204],\n",
       "        [ 63,  66, 140],\n",
       "        [195,  40, 167]],\n",
       "\n",
       "       ...,\n",
       "\n",
       "       [[124,  91, 212],\n",
       "        [128, 115,  67],\n",
       "        [164, 140, 136],\n",
       "        ...,\n",
       "        [200, 231,  94],\n",
       "        [150,  50, 230],\n",
       "        [113,  17, 196]],\n",
       "\n",
       "       [[195,  98,  16],\n",
       "        [228,  57, 152],\n",
       "        [ 67, 226, 167],\n",
       "        ...,\n",
       "        [110, 246, 226],\n",
       "        [ 20, 218, 197],\n",
       "        [ 71,  99, 166]],\n",
       "\n",
       "       [[110, 174, 118],\n",
       "        [ 69, 100, 144],\n",
       "        [195,  83, 183],\n",
       "        ...,\n",
       "        [ 82, 209,  40],\n",
       "        [ 35, 121,  49],\n",
       "        [239, 135, 176]]])"
      ]
     },
     "execution_count": 80,
     "metadata": {},
     "output_type": "execute_result"
    }
   ],
   "source": [
    "np.random.randint(low=0, high=255, size=(20, 20, 3))"
   ]
  },
  {
   "cell_type": "code",
   "execution_count": null,
   "id": "3aa55f5c-4291-418c-9b60-3075a139cfba",
   "metadata": {},
   "outputs": [],
   "source": []
  }
 ],
 "metadata": {
  "kernelspec": {
   "display_name": "Python 3 (ipykernel)",
   "language": "python",
   "name": "python3"
  },
  "language_info": {
   "codemirror_mode": {
    "name": "ipython",
    "version": 3
   },
   "file_extension": ".py",
   "mimetype": "text/x-python",
   "name": "python",
   "nbconvert_exporter": "python",
   "pygments_lexer": "ipython3",
   "version": "3.8.5"
  }
 },
 "nbformat": 4,
 "nbformat_minor": 5
}
