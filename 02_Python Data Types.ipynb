{
 "cells": [
  {
   "cell_type": "markdown",
   "id": "f08a2dee-9bc1-4e57-80d0-1b75485bf0c0",
   "metadata": {},
   "source": [
    "<a href=\"https://www.python.org/\"><img src=\"https://github.com/JhunBrian/ICT-111/blob/main/figures/py_logo.png?raw=true\" width=90 style=\"float: left\"></a>\n",
    "\n",
    "# Python Data Types\n",
    "\n",
    "</br></br></br>\n",
    "Instructor: Jhun Brian M. Andam \\\n",
    "Institution: University of Science and Technology of Southern Philippines\n",
    "\n",
    "- https://www.w3schools.com/python/default.asp\n",
    "- https://classroom.google.com/c/NTI5MjU4NTY4NTIy/p/NTI5MjU5NDY1MTUz/details"
   ]
  },
  {
   "cell_type": "markdown",
   "id": "8c31c382-991d-4a84-b82d-751f6daae391",
   "metadata": {},
   "source": [
    "### Observe"
   ]
  },
  {
   "cell_type": "code",
   "execution_count": 1,
   "id": "fc5e487e-dede-4aed-93b6-79df9bddda0b",
   "metadata": {},
   "outputs": [
    {
     "name": "stdout",
     "output_type": "stream",
     "text": [
      "I am Brian, and I'm 22 Years young\n"
     ]
    }
   ],
   "source": [
    "print(\"I am Brian, and I'm\", 22, \"Years young\")"
   ]
  },
  {
   "cell_type": "markdown",
   "id": "574d6e7d-3813-4995-8514-6eb103090acc",
   "metadata": {},
   "source": [
    "From the code above, it's apparent that we did not use any variables, but rather than just sole values. And these values have their own `data types`.\n",
    "\n",
    "We already know that a `variable` is anything (there are actually proper ways and conventions fo creating a variable) that is being assigned by something. Now what is the `value` then?\n",
    "\n",
    "From our previous examples, the variables were assigned with `integers`, `strings` (i.e., names, words, sentences), and `functions`. These integers and strings are called datatypes, if solely executed, they won't make an interpreter throw an error."
   ]
  },
  {
   "cell_type": "markdown",
   "id": "3861d9bb-92f9-4a5e-b867-f92274cfe6ed",
   "metadata": {},
   "source": [
    "### Built-in Python Data Types\n",
    "In programming, data type is an important concept.\n",
    "\n",
    "Variables can store data of different types, and different types can do different things.\n",
    "\n",
    "Python has the following data types built-in by default, in these categories:\n",
    "\n",
    "<table>\n",
    "    <thead>\n",
    "        <tr>\n",
    "            <td>Type</td>\n",
    "            <td>Data Types</td>\n",
    "        </tr>\n",
    "    </thead>\n",
    "    <tr>\n",
    "        <td>Text Type</td>\n",
    "        <td>str</td>\n",
    "    </tr>\n",
    "    <tr>\n",
    "        <td>Numeric Types</td>\n",
    "        <td>int, float, complex</td>\n",
    "    </tr>\n",
    "    <tr>\n",
    "        <td>Sequence Types</td>\n",
    "        <td>list, tuple, range</td>\n",
    "    </tr>\n",
    "    <tr>\n",
    "        <td>Mapping Type</td>\n",
    "        <td>dict</td>\n",
    "    </tr>\n",
    "    <tr>\n",
    "        <td>Set Types</td>\n",
    "        <td>set, frozenset</td>\n",
    "    </tr>\n",
    "    <tr>\n",
    "        <td>Boolean Type</td>\n",
    "        <td>bool</td>\n",
    "    </tr>\n",
    "    <tr>\n",
    "        <td>Binary Types</td>\n",
    "        <td>bytes, bytearray, memoryview</td>\n",
    "    </tr>\n",
    "    <tr>\n",
    "        <td>None Type</td>\n",
    "        <td>NoneType</td>\n",
    "    </tr>\n",
    "</table>"
   ]
  },
  {
   "cell_type": "markdown",
   "id": "cc002ba4-c723-44ea-885c-c7624f736651",
   "metadata": {},
   "source": [
    "### Setting the Data Type\n",
    "\n",
    "`type()` is a built-in python function that returns the data type of a particular variable or value."
   ]
  },
  {
   "cell_type": "code",
   "execution_count": 35,
   "id": "bfd8093a-2019-427e-ae5a-cc85f24a372e",
   "metadata": {},
   "outputs": [
    {
     "name": "stdout",
     "output_type": "stream",
     "text": [
      "Hello World\n",
      "<class 'str'>\n"
     ]
    }
   ],
   "source": [
    "x = \"Hello World\"\n",
    "print(x)\n",
    "print(type(x))"
   ]
  },
  {
   "cell_type": "code",
   "execution_count": 36,
   "id": "cde448cd-a8cb-4fdf-b9dd-ec7d73eb2abe",
   "metadata": {},
   "outputs": [
    {
     "name": "stdout",
     "output_type": "stream",
     "text": [
      "20\n",
      "<class 'int'>\n"
     ]
    }
   ],
   "source": [
    "x = 20\n",
    "print(x)\n",
    "print(type(x))"
   ]
  },
  {
   "cell_type": "code",
   "execution_count": 37,
   "id": "7695def9-f5d1-4aaa-905a-30757ad82e6c",
   "metadata": {},
   "outputs": [
    {
     "name": "stdout",
     "output_type": "stream",
     "text": [
      "20.7\n",
      "<class 'float'>\n"
     ]
    }
   ],
   "source": [
    "x = 20.7\n",
    "print(x)\n",
    "print(type(x))"
   ]
  },
  {
   "cell_type": "code",
   "execution_count": 38,
   "id": "097c41f4-9075-4514-bc3b-7bb3826016c5",
   "metadata": {},
   "outputs": [
    {
     "name": "stdout",
     "output_type": "stream",
     "text": [
      "1j\n",
      "<class 'complex'>\n"
     ]
    }
   ],
   "source": [
    "x = 1j\n",
    "print(x)\n",
    "print(type(x))"
   ]
  },
  {
   "cell_type": "code",
   "execution_count": 39,
   "id": "06ea7beb-c9bc-4530-8ca5-277c41718325",
   "metadata": {},
   "outputs": [
    {
     "name": "stdout",
     "output_type": "stream",
     "text": [
      "[1, 2, 3, 4, 5]\n",
      "<class 'list'>\n"
     ]
    }
   ],
   "source": [
    "x = [1, 2, 3, 4, 5]\n",
    "print(x)\n",
    "print(type(x))"
   ]
  },
  {
   "cell_type": "code",
   "execution_count": 40,
   "id": "3d112684-ba6f-41b2-add2-df41a6fb8b91",
   "metadata": {},
   "outputs": [
    {
     "name": "stdout",
     "output_type": "stream",
     "text": [
      "(1, 2, 3, 4, 5)\n",
      "<class 'tuple'>\n"
     ]
    }
   ],
   "source": [
    "x = (1, 2, 3, 4, 5)\n",
    "print(x)\n",
    "print(type(x))"
   ]
  },
  {
   "cell_type": "code",
   "execution_count": 41,
   "id": "cbded200-e936-4223-bee4-7558fbe56071",
   "metadata": {},
   "outputs": [
    {
     "name": "stdout",
     "output_type": "stream",
     "text": [
      "range(1, 10)\n",
      "<class 'range'>\n"
     ]
    }
   ],
   "source": [
    "x = range(1, 10)\n",
    "print(x)\n",
    "print(type(x))"
   ]
  },
  {
   "cell_type": "code",
   "execution_count": 42,
   "id": "e10ac75a-b95d-4c11-89ee-76e77ba6b205",
   "metadata": {},
   "outputs": [
    {
     "name": "stdout",
     "output_type": "stream",
     "text": [
      "{'a': 1, 'b': 2, 'c': 3}\n",
      "<class 'dict'>\n"
     ]
    }
   ],
   "source": [
    "x = {'a':1, 'b':2, 'c':3}\n",
    "print(x)\n",
    "print(type(x))"
   ]
  },
  {
   "cell_type": "code",
   "execution_count": 43,
   "id": "9b876bea-a7f5-4ade-b54a-4531536ec8c9",
   "metadata": {},
   "outputs": [
    {
     "name": "stdout",
     "output_type": "stream",
     "text": [
      "{1, 2, 3, 4, 5}\n",
      "<class 'set'>\n"
     ]
    }
   ],
   "source": [
    "x = {1, 2, 3, 4, 5}\n",
    "print(x)\n",
    "print(type(x))"
   ]
  },
  {
   "cell_type": "code",
   "execution_count": 44,
   "id": "a964660b-2da8-4ea2-a3bb-ee01b2fb811b",
   "metadata": {},
   "outputs": [
    {
     "name": "stdout",
     "output_type": "stream",
     "text": [
      "frozenset({1, 2, 3, 4, 5})\n",
      "<class 'frozenset'>\n"
     ]
    }
   ],
   "source": [
    "x = frozenset({1, 2, 3, 4, 5})\n",
    "print(x)\n",
    "print(type(x))"
   ]
  },
  {
   "cell_type": "code",
   "execution_count": 45,
   "id": "f4e123cd-16d5-41db-a93b-7576d5d3fc7b",
   "metadata": {},
   "outputs": [
    {
     "name": "stdout",
     "output_type": "stream",
     "text": [
      "True\n",
      "<class 'bool'>\n"
     ]
    }
   ],
   "source": [
    "x = True\n",
    "print(x)\n",
    "print(type(x))"
   ]
  },
  {
   "cell_type": "code",
   "execution_count": 46,
   "id": "081faa1b-9cb7-4cc0-9bad-919999812ba8",
   "metadata": {},
   "outputs": [
    {
     "name": "stdout",
     "output_type": "stream",
     "text": [
      "b'Hello'\n",
      "<class 'bytes'>\n"
     ]
    }
   ],
   "source": [
    "x = b\"Hello\"\n",
    "print(x)\n",
    "print(type(x))"
   ]
  },
  {
   "cell_type": "code",
   "execution_count": 47,
   "id": "23181116-d6e4-4ec6-8dfb-b75e8ff1830b",
   "metadata": {},
   "outputs": [
    {
     "name": "stdout",
     "output_type": "stream",
     "text": [
      "bytearray(b'\\x00\\x00\\x00')\n",
      "<class 'bytearray'>\n"
     ]
    }
   ],
   "source": [
    "x = bytearray(3)\n",
    "print(x)\n",
    "print(type(x))"
   ]
  },
  {
   "cell_type": "code",
   "execution_count": 48,
   "id": "53a2000d-bc18-4595-877c-0b6134a77441",
   "metadata": {},
   "outputs": [
    {
     "name": "stdout",
     "output_type": "stream",
     "text": [
      "<memory at 0x000001BDC7719E80>\n",
      "<class 'memoryview'>\n"
     ]
    }
   ],
   "source": [
    "x = memoryview(bytes(5))\n",
    "print(x)\n",
    "print(type(x))"
   ]
  },
  {
   "cell_type": "code",
   "execution_count": 49,
   "id": "bab77dbe-b7d0-4836-8580-75ac9e5db3ed",
   "metadata": {},
   "outputs": [
    {
     "name": "stdout",
     "output_type": "stream",
     "text": [
      "None\n",
      "<class 'NoneType'>\n"
     ]
    }
   ],
   "source": [
    "x = None\n",
    "print(x)\n",
    "print(type(x))"
   ]
  },
  {
   "cell_type": "markdown",
   "id": "675c0013-ef05-4443-b689-c340c52ed470",
   "metadata": {},
   "source": [
    "### Exercise: \n",
    "\n",
    "1. Create variables with a value that represents all the primitive data types."
   ]
  },
  {
   "cell_type": "code",
   "execution_count": null,
   "id": "ecae2ad3-2544-4b67-b7a0-d0274b8fca25",
   "metadata": {},
   "outputs": [],
   "source": []
  }
 ],
 "metadata": {
  "kernelspec": {
   "display_name": "Python 3 (ipykernel)",
   "language": "python",
   "name": "python3"
  },
  "language_info": {
   "codemirror_mode": {
    "name": "ipython",
    "version": 3
   },
   "file_extension": ".py",
   "mimetype": "text/x-python",
   "name": "python",
   "nbconvert_exporter": "python",
   "pygments_lexer": "ipython3",
   "version": "3.9.4"
  }
 },
 "nbformat": 4,
 "nbformat_minor": 5
}
